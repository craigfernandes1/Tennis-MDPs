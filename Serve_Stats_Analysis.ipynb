{
 "cells": [
  {
   "cell_type": "code",
   "execution_count": 1,
   "metadata": {
    "collapsed": true,
    "pycharm": {
     "is_executing": false
    }
   },
   "outputs": [],
   "source": [
    "import pandas as pd\n",
    "import numpy as np"
   ]
  },
  {
   "cell_type": "code",
   "execution_count": 2,
   "outputs": [],
   "source": [
    "# Import 2019 atp tennis data\n",
    "df_tennis = pd.read_csv('https://raw.githubusercontent.com/JeffSackmann/tennis_atp/master/atp_matches_2019.csv')\n",
    "\n",
    "# Add some columns\n",
    "\n",
    "# Number of first serves that went in\n",
    "df_tennis['first_pct'] = (df_tennis.w_1stIn/df_tennis.w_svpt + df_tennis.l_1stIn/df_tennis.l_svpt)/2\n",
    "\n",
    "# Counts of total, first and second serves\n",
    "df_tennis['tot_serves_count'] = df_tennis.w_svpt + (df_tennis.w_svpt - df_tennis.w_1stIn) + df_tennis.l_svpt + (df_tennis.l_svpt - df_tennis.l_1stIn)\n",
    "df_tennis['first_serve_count'] = df_tennis.w_svpt + df_tennis.l_svpt\n",
    "df_tennis['second_serve_count'] = df_tennis.tot_serves_count - df_tennis.first_serve_count\n",
    "\n",
    "# Counts of double faults\n",
    "df_tennis['tot_df_count'] = df_tennis.w_df + df_tennis.l_df "
   ],
   "metadata": {
    "collapsed": false,
    "pycharm": {
     "name": "#%% Data\n",
     "is_executing": false
    }
   }
  },
  {
   "cell_type": "code",
   "execution_count": 3,
   "outputs": [],
   "source": [
    "# prob first serve went in\n",
    "p_1st_pct = df_tennis.first_pct.mean()\n",
    "# P(error | 1st serve) aka number of errors on 1st serves\n",
    "p_err_given_first = 1 - p_1st_pct\n",
    "\n",
    "# P(1st serve) & P(2nd serve)\n",
    "p_first_serve = df_tennis.first_serve_count.mean() / df_tennis.tot_serves_count.mean()\n",
    "p_second_serve = 1-p_first_serve\n",
    "\n",
    "# P(error | 2nd serve) aka number of errors on 2nd serves\n",
    "p_err_given_second = df_tennis.tot_df_count.mean() / df_tennis.second_serve_count.mean()\n",
    "\n",
    "# P(error) aka, given any serve, probability it was an error\n",
    "p_err = p_err_given_first*p_first_serve + p_err_given_second*p_second_serve"
   ],
   "metadata": {
    "collapsed": false,
    "pycharm": {
     "name": "#%% Probabilities\n",
     "is_executing": false
    }
   }
  },
  {
   "cell_type": "code",
   "execution_count": 4,
   "outputs": [
    {
     "name": "stdout",
     "text": [
      "0.91 0.09\n"
     ],
     "output_type": "stream"
    }
   ],
   "source": [
    "# P(1st serve | error)\n",
    "p_first_given_err = p_err_given_first*p_first_serve / p_err\n",
    "\n",
    "# P(2nd serve | error)\n",
    "p_second_given_err = p_err_given_second*p_second_serve / p_err\n",
    "\n",
    "print(np.round(p_first_given_err,2), np.round(p_second_given_err,2))"
   ],
   "metadata": {
    "collapsed": false,
    "pycharm": {
     "name": "#%% Bayes Rule\n",
     "is_executing": false
    }
   }
  },
  {
   "cell_type": "code",
   "execution_count": 4,
   "outputs": [],
   "source": [
    "\n"
   ],
   "metadata": {
    "collapsed": false,
    "pycharm": {
     "name": "#%%\n",
     "is_executing": false
    }
   }
  }
 ],
 "metadata": {
  "kernelspec": {
   "display_name": "Python 3",
   "language": "python",
   "name": "python3"
  },
  "language_info": {
   "codemirror_mode": {
    "name": "ipython",
    "version": 2
   },
   "file_extension": ".py",
   "mimetype": "text/x-python",
   "name": "python",
   "nbconvert_exporter": "python",
   "pygments_lexer": "ipython2",
   "version": "2.7.6"
  },
  "pycharm": {
   "stem_cell": {
    "cell_type": "raw",
    "source": [],
    "metadata": {
     "collapsed": false
    }
   }
  }
 },
 "nbformat": 4,
 "nbformat_minor": 0
}
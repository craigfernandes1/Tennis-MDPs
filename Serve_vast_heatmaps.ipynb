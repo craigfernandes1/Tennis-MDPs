{
 "cells": [
  {
   "cell_type": "code",
   "execution_count": null,
   "outputs": [],
   "source": [
    "import PlottingFunction as pf\n",
    "import DataManipulation as dm\n",
    "import matplotlib.pyplot as plt\n",
    "from pathlib import Path\n",
    "import pandas as pd\n",
    "import winsound\n",
    "\n",
    "%matplotlib qt5"
   ],
   "metadata": {
    "collapsed": false,
    "pycharm": {
     "name": "#%% Import packages\n",
     "is_executing": false
    }
   }
  },
  {
   "cell_type": "code",
   "source": [
    "# Read in data and keep it in frame\n",
    "df = pd.read_csv(Path.cwd() / 'data' / 'vast' / \"vast_serve_200k.csv\")\n",
    "df = dm.keep_data_in_frame(df, compressed=False, only_half=True)\n",
    "\n",
    "# vast histogram breakdown\n",
    "# plt.figure()\n",
    "# sns.distplot(df.vast.dropna(),kde=True, bins = 40)\n",
    "# plt.title('Vast Distribution for all Serves')\n",
    "# plt.ylabel('Fraction of Shots (%)')\n",
    "\n",
    "# Look at just \"winning\" shots\n",
    "vast_min = 0.0\n",
    "df = df[(df.vast >= vast_min) | (df.vast == 0)]\n",
    "\n",
    "# Split deuce and ad serves\n",
    "df_deuce = df[df.adpoint==0]\n",
    "df_ad = df[df.adpoint==1]\n",
    "# Correct vast values for error serves\n",
    "df_deuce = dm.change_vast_error_shots(df_deuce,'deuce_serve')\n",
    "df_ad = dm.change_vast_error_shots(df_ad,'ad_serve')\n",
    "df_serves = {\"Deuce\": df_deuce, \"Ad\": df_ad}"
   ],
   "metadata": {
    "collapsed": false,
    "pycharm": {
     "name": "#%% \n",
     "is_executing": false
    }
   },
   "execution_count": null,
   "outputs": []
  },
  {
   "cell_type": "code",
   "execution_count": null,
   "outputs": [],
   "source": [
    "for df_label in df_serves:\n",
    "    \n",
    "    df = df_serves[df_label]\n",
    "    \n",
    "    if df_label == \"Deuce\":\n",
    "        receiver_regions = pf.createPlayerRegions(type = 'deuce_serve')\n",
    "    else:\n",
    "        receiver_regions = pf.createPlayerRegions(type = 'ad_serve')\n",
    "        \n",
    "    plt.figure()\n",
    "    i = 0\n",
    "    for receiver_region in receiver_regions:\n",
    "        df_filter = df\n",
    "        df_filter = dm.filter_data_by_buckets(df_filter, 'receiver_start', receiver_regions[receiver_region],compressed=True,only_half=False)\n",
    "    \n",
    "        plt.subplot(2, 3, 1+i)\n",
    "        pf.createKde(df_filter.x02, df_filter.y02,n_levels=15,alpha=1, only_half=True, compressed = True)\n",
    "        pf.plot1D(data=df_filter, receiver_position='receiver_start', only_half=True, compressed = True, \n",
    "                  title=\"Landing Distribution: \" + df_label + \" Serves with the Receiver at the \" + receiver_region)\n",
    "        # pf.markupImpactPlayer(impact_region)\n",
    "        plt.subplot(2, 3, 4+i)\n",
    "        heatmap = pf.createHeatmap(df_filter.x02, df_filter.y02, df_filter.vast, only_half=True, compressed = True, stat_name = \"VAST\", \n",
    "                                   minimum=25,alpha=0.95,vast_min=vast_min, annot = True, addCount=True)\n",
    "        pf.plot1D(data=df_filter,alpha_ball = 0, alpha_player= 0.05, only_half=True, compressed=True, receiver_position='receiver_start',\n",
    "                  title = \"VAST Heatmap: \" + df_label + \" Serves with the Receiver at the \" + receiver_region)\n",
    "        # pf.markupImpactPlayer(impact_region)\n",
    "        i=i+1\n",
    "\n",
    "    plt.subplots_adjust(left=0.055, right=0.95, top=0.96, bottom=0.04, hspace=0.15, wspace=0.15)\n",
    "\n",
    "winsound.Beep(2000, 800)"
   ],
   "metadata": {
    "collapsed": false,
    "pycharm": {
     "name": "#%% Create landing KDE's and Heatmaps\n",
     "is_executing": false
    }
   }
  },
  {
   "cell_type": "code",
   "execution_count": 19,
   "outputs": [
    {
     "name": "stdout",
     "text": [
      "Converged: True\n",
      "Converged: True\n",
      "Converged: True\n",
      "Converged: True\n",
      "Converged: True\n",
      "Converged: True\n"
     ],
     "output_type": "stream"
    }
   ],
   "source": [
    "for df_label in df_serves:\n",
    "    \n",
    "    df = df_serves[df_label]\n",
    "    \n",
    "    if df_label == \"Deuce\":\n",
    "        receiver_regions = pf.createPlayerRegions(type = 'deuce_serve')\n",
    "    else:\n",
    "        receiver_regions = pf.createPlayerRegions(type = 'ad_serve')\n",
    "        \n",
    "    plt.figure()\n",
    "    i = 0\n",
    "    for receiver_region in receiver_regions:\n",
    "        df_filter = df\n",
    "        df_filter = dm.filter_data_by_buckets(df_filter, 'receiver_start', receiver_regions[receiver_region],compressed=True,only_half=False)\n",
    "    \n",
    "        plt.subplot(2, 3, 1+i)\n",
    "        pf.createKde(df_filter.x02, df_filter.y02,n_levels=15,alpha=1, only_half=True, compressed = True)\n",
    "        pf.plot1D(data=df_filter, receiver_position='receiver_start', only_half=True, compressed = True, \n",
    "                  title=\"Landing Distribution: \" + df_label + \" Serves with the Receiver at the \" + receiver_region)\n",
    "        # pf.markupImpactPlayer(impact_region)\n",
    "        \n",
    "        \n",
    "        if (receiver_region == \"Corner\"):\n",
    "            n_clusters = 2\n",
    "            if df_filter.shape[0] > 8000:\n",
    "                df_filter = df_filter.sample(8000)\n",
    "        else:\n",
    "            n_clusters = 1\n",
    "    \n",
    "        plt.subplot(2, 3, 4+i)\n",
    "        means, covariances, prediction = pf.fitGMM(df_filter,n_clusters,compressed=True,only_half=True,title='')\n",
    "        # pf.markupImpactPlayer(impact_region)\n",
    "        i=i+1\n",
    "        \n",
    "    plt.subplots_adjust(left=0.055, right=0.95, top=0.96, bottom=0.04, hspace=0.15, wspace=0.15)\n",
    "\n",
    "winsound.Beep(2000, 800)\n"
   ],
   "metadata": {
    "collapsed": false,
    "pycharm": {
     "name": "#%% Create landing KDE's and GMM distributions\n",
     "is_executing": false
    }
   }
  },
  {
   "cell_type": "code",
   "execution_count": null,
   "outputs": [],
   "source": [],
   "metadata": {
    "collapsed": false,
    "pycharm": {
     "name": "#%%\n",
     "is_executing": false
    }
   }
  }
 ],
 "metadata": {
  "kernelspec": {
   "display_name": "Python 3",
   "language": "python",
   "name": "python3"
  },
  "language_info": {
   "codemirror_mode": {
    "name": "ipython",
    "version": 2
   },
   "file_extension": ".py",
   "mimetype": "text/x-python",
   "name": "python",
   "nbconvert_exporter": "python",
   "pygments_lexer": "ipython2",
   "version": "2.7.6"
  },
  "pycharm": {
   "stem_cell": {
    "cell_type": "raw",
    "source": [],
    "metadata": {
     "collapsed": false
    }
   }
  }
 },
 "nbformat": 4,
 "nbformat_minor": 0
}
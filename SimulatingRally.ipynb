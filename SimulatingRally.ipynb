{
 "cells": [
  {
   "cell_type": "code",
   "execution_count": 1,
   "outputs": [],
   "source": [
    "from sklearn.cluster import KMeans\n",
    "from PlottingFunction import *\n",
    "import matplotlib.pyplot as plt\n",
    "from pathlib import Path\n",
    "import pandas as pd\n",
    "%matplotlib qt"
   ],
   "metadata": {
    "collapsed": false,
    "pycharm": {
     "name": "#%%\n",
     "is_executing": false
    }
   }
  },
  {
   "cell_type": "code",
   "execution_count": 2,
   "outputs": [],
   "source": [
    "ShotData = pd.read_pickle(Path.cwd() / 'pickle' / 'Old' / \"ShotData250.plk\")\n",
    "ShotData_DeuceServe = ShotData.loc[(ShotData['PstartBucket'] == 292) & (ShotData['OstartBucket'] == 445) & (ShotData['Type'] == \"Serve\")].copy()\n",
    "\n",
    "cluster = KMeans(n_clusters=2, random_state=0).fit(ShotData_DeuceServe[['xLand', 'yLand', 'px0', 'py0', 'ox0', 'oy0']])\n",
    "centroids = cluster.cluster_centers_\n",
    "ShotData_DeuceServe[\"Cluster\"] = cluster.labels_\n",
    "ShotData_DeuceServe_ClusterCorner = ShotData_DeuceServe.loc[(ShotData_DeuceServe['Cluster'] == 0)].copy()"
   ],
   "metadata": {
    "collapsed": false,
    "pycharm": {
     "name": "#%%\n",
     "is_executing": false
    }
   }
  },
  {
   "cell_type": "code",
   "execution_count": 9,
   "outputs": [],
   "source": [
    "Shot1 = ShotData_DeuceServe_ClusterCorner.sample() # random shot in corner cluster\n",
    "\n",
    "[oxBinEnd,oyBinEnd] = [Shot1['oxBinEnd'].values[0],Shot1['oyBinEnd'].values[0]]\n",
    "[pxBinStart, pyBinStart] = [(31-oxBinEnd),(19-oyBinEnd)]\n",
    "[pxBinEnd,pyBinEnd] = [Shot1['pxBinEnd'].values[0],Shot1['pyBinEnd'].values[0]]\n",
    "[oxBinStart, oyBinStart] = [(31-pxBinEnd),(19-pyBinEnd)]\n",
    "\n",
    "Shot2Full = (ShotData.loc[(ShotData['Type'] == \"ServeReturn\") & (ShotData['PstartBucket'] == (pyBinStart*32 + pxBinStart)) & (ShotData['OstartBucket'] == (oyBinStart*32 + oxBinStart)) & (ShotData['xLand'] <= 16)].copy()).sample(10)\n",
    "Shot2 = Shot2Full.sample()\n",
    "\n",
    "[oxBinEnd,oyBinEnd] = [Shot2['oxBinEnd'].values[0],Shot2['oyBinEnd'].values[0]]\n",
    "[pxBinStart, pyBinStart] = [(31-oxBinEnd),(19-oyBinEnd)]\n",
    "[pxBinEnd,pyBinEnd] = [Shot2['pxBinEnd'].values[0],Shot2['pyBinEnd'].values[0]]\n",
    "[oxBinStart, oyBinStart] = [(31-pxBinEnd),(19-pyBinEnd)]\n",
    "\n",
    "Shot3Full = (ShotData.loc[(ShotData['Type'] == \"Rally\") & (ShotData['PstartBucket'] == (pyBinStart*32 + pxBinStart)) & (ShotData['OstartBucket'] == (oyBinStart*32 + oxBinStart))  & (ShotData['xLand'] <= 16) ].copy()).sample(10)"
   ],
   "metadata": {
    "collapsed": false,
    "pycharm": {
     "name": "#%%\n",
     "is_executing": false
    }
   }
  },
  {
   "cell_type": "code",
   "execution_count": 5,
   "outputs": [],
   "source": [
    "fig = plt.figure()\n",
    "plot1D(ShotData_DeuceServe, centroids, alpha = 1, title =  \"Clustered Deuce Serves\")"
   ],
   "metadata": {
    "collapsed": false,
    "pycharm": {
     "name": "#%%\n",
     "is_executing": false
    }
   }
  },
  {
   "cell_type": "code",
   "execution_count": 10,
   "outputs": [],
   "source": [
    "fig = plt.figure()\n",
    "grid = plt.GridSpec(2,2)\n",
    "ax = plt.subplot(grid[0,0])\n",
    "plot2D(Shot1, ax, 0, \"blue\", \"red\", \"purple\",  \"1. Sample Deuce Serve - Corner Cluster\")\n",
    "plt.tick_params(\n",
    "    axis='both',          # changes apply to the x-axis\n",
    "    which='both',      # both major and minor ticks are affected\n",
    "    bottom=False,      # ticks along the bottom edge are off\n",
    "    top=False,         # ticks along the top edge are off\n",
    "    labelbottom=False)\n",
    "ax = plt.subplot(grid[0,1])\n",
    "plot2D(Shot2Full,ax, 180, \"darkorange\", \"purple\", \"red\",\"2. Simulating Serve Return Shots\")\n",
    "plt.tick_params(\n",
    "    axis='both',          # changes apply to the x-axis\n",
    "    which='both',      # both major and minor ticks are affected\n",
    "    bottom=False,      # ticks along the bottom edge are off\n",
    "    top=False,         # ticks along the top edge are off\n",
    "    labelbottom=False)\n",
    "ax = plt.subplot(grid[1,0])\n",
    "plot2D(Shot2,ax, 180, \"darkorange\", \"purple\", \"red\", \"3. Particular Serve Return\")\n",
    "plt.tick_params(\n",
    "    axis='both',          # changes apply to the x-axis\n",
    "    which='both',      # both major and minor ticks are affected\n",
    "    bottom=False,      # ticks along the bottom edge are off\n",
    "    top=False,         # ticks along the top edge are off\n",
    "    labelbottom=False)\n",
    "ax = plt.subplot(grid[1,1])\n",
    "plot2D(Shot3Full,ax, 0, \"blue\", \"red\", \"purple\", \"4. Simulating Rally Return Shots for Particular Serve Return\")\n",
    "plt.tick_params(\n",
    "    axis='both',          # changes apply to the x-axis\n",
    "    which='both',      # both major and minor ticks are affected\n",
    "    bottom=False,      # ticks along the bottom edge are off\n",
    "    top=False,         # ticks along the top edge are off\n",
    "    labelbottom=False)"
   ],
   "metadata": {
    "collapsed": false,
    "pycharm": {
     "name": "#%%\n",
     "is_executing": false
    }
   }
  },
  {
   "cell_type": "code",
   "execution_count": null,
   "outputs": [],
   "source": [
    "\n"
   ],
   "metadata": {
    "collapsed": false,
    "pycharm": {
     "name": "#%%\n"
    }
   }
  }
 ],
 "metadata": {
  "kernelspec": {
   "display_name": "Python 3",
   "language": "python",
   "name": "python3"
  },
  "language_info": {
   "codemirror_mode": {
    "name": "ipython",
    "version": 2
   },
   "file_extension": ".py",
   "mimetype": "text/x-python",
   "name": "python",
   "nbconvert_exporter": "python",
   "pygments_lexer": "ipython2",
   "version": "2.7.6"
  },
  "pycharm": {
   "stem_cell": {
    "cell_type": "raw",
    "source": [],
    "metadata": {
     "collapsed": false
    }
   }
  }
 },
 "nbformat": 4,
 "nbformat_minor": 0
}
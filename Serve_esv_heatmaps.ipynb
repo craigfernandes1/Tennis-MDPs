{
 "cells": [
  {
   "cell_type": "code",
   "execution_count": 1,
   "outputs": [],
   "source": [
    "from PlottingFunction import *\n",
    "import matplotlib.pyplot as plt\n",
    "from pathlib import Path\n",
    "import pandas as pd\n",
    "\n",
    "%matplotlib qt"
   ],
   "metadata": {
    "collapsed": false,
    "pycharm": {
     "name": "#%% Import packages\n",
     "is_executing": false
    }
   }
  },
  {
   "cell_type": "code",
   "execution_count": 16,
   "outputs": [],
   "source": [
    "df = pd.read_csv(Path.cwd() / 'data' / 'esv' / 'esv_serve_deuce_corner.csv')\n",
    "df = df[(df.Type == 'Serve')] # Just in-play, rally shots (since looking at cross-court forehands)\n",
    "df = df[(df.x02 < 6.4008) & (df.y02 > 0) & (df.y02 < 823 / 200)\n",
    "                            & (df.error == 0)]"
   ],
   "metadata": {
    "collapsed": false,
    "pycharm": {
     "name": "#%% Import data and remove outliers\n",
     "is_executing": false
    }
   }
  },
  {
   "cell_type": "code",
   "execution_count": 19,
   "outputs": [],
   "source": [
    "position_label = 'Corner'\n",
    "\n",
    "# Plot the data for an understanding\n",
    "plt.figure()\n",
    "plot2D(data=df.iloc[1:100,:], ax = plt.gca(), x_rot=0,col_ball='blue',\n",
    "       col_p1='red',col_p2='purple',title=\"Serves with Receiver in the \" + position_label + \" (Only In-Play)\")\n",
    "\n",
    "plt.figure()\n",
    "createKde(df.x02, df.y02, compressed = True)\n",
    "plot1D(data=df, compressed = True, title=\"Landing Distribution of Serves with Receiver in the \" + position_label + \" (Only In-Play)\")"
   ],
   "metadata": {
    "collapsed": false,
    "pycharm": {
     "name": "#%% Plot the data and heatmap\n",
     "is_executing": false
    }
   }
  },
  {
   "cell_type": "code",
   "execution_count": 24,
   "outputs": [],
   "source": [
    "# Heatmap for Vast\n",
    "plt.figure()\n",
    "heatmap = createHeatmap(df.x02, df.y02, df.mean_esv, stat_name = \"ESV\", annot = True, addCount=True, compressed = True)\n",
    "plot1D(data=df,alpha = 0, compressed=True, title = \"Mean ESV Heatmap for Serves with Receiver in the \" + position_label)"
   ],
   "metadata": {
    "collapsed": false,
    "pycharm": {
     "name": "#%%\n",
     "is_executing": false
    }
   }
  },
  {
   "cell_type": "code",
   "execution_count": null,
   "outputs": [],
   "source": [
    "\n"
   ],
   "metadata": {
    "collapsed": false,
    "pycharm": {
     "name": "#%%\n"
    }
   }
  }
 ],
 "metadata": {
  "kernelspec": {
   "display_name": "Python 3",
   "language": "python",
   "name": "python3"
  },
  "language_info": {
   "codemirror_mode": {
    "name": "ipython",
    "version": 2
   },
   "file_extension": ".py",
   "mimetype": "text/x-python",
   "name": "python",
   "nbconvert_exporter": "python",
   "pygments_lexer": "ipython2",
   "version": "2.7.6"
  },
  "pycharm": {
   "stem_cell": {
    "cell_type": "raw",
    "source": [],
    "metadata": {
     "collapsed": false
    }
   }
  }
 },
 "nbformat": 4,
 "nbformat_minor": 0
}
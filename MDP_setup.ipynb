{
 "cells": [
  {
   "cell_type": "markdown",
   "metadata": {
    "collapsed": true,
    "pycharm": {
     "name": "#%% md\n"
    }
   },
   "source": [
    "This notebook will create the T's to define an MDP"
   ]
  },
  {
   "cell_type": "code",
   "execution_count": 1,
   "outputs": [],
   "source": [
    "import PlottingFunction as pf\n",
    "import DataManipulation as dm\n",
    "import matplotlib.pyplot as plt\n",
    "import Policy_iteration_functions as f\n",
    "from pathlib import Path\n",
    "import pandas as pd\n",
    "import numpy as np\n",
    "import winsound\n",
    "\n",
    "%matplotlib qt5"
   ],
   "metadata": {
    "collapsed": false,
    "pycharm": {
     "name": "#%% Import packages\n",
     "is_executing": false
    }
   }
  },
  {
   "cell_type": "code",
   "execution_count": 11,
   "outputs": [],
   "source": [
    "df  = pd.read_pickle(Path.cwd() / 'pickle' / 'TP' / 'df_double_prime.plk')\n",
    "df = df[df.second_error != 'none']\n",
    "df = df.reset_index(drop=True)\n",
    "df = dm.add_landing_region_to_df(df)\n",
    "# df.to_pickle('df_regions.plk')"
   ],
   "metadata": {
    "collapsed": false,
    "pycharm": {
     "name": "#%% \n",
     "is_executing": false
    }
   }
  },
  {
   "cell_type": "code",
   "execution_count": null,
   "outputs": [],
   "source": [
    "col_offset = 2\n",
    "types = ['serve','servereturn','rally']\n",
    "regions = ['serve_ad_corner', 'serve_ad_middle','serve_deuce_corner', 'serve_deuce_middle', 'rally_short_ad',\n",
    "           'rally_short_middle', 'rally_short_deuce','rally_deep_ad','rally_deep_middle','rally_deep_deuce']\n",
    "\n",
    "for region in regions:\n",
    "    T = pd.DataFrame(np.zeros((5297, 5297)))\n",
    "    Counts = pd.DataFrame(np.zeros((5297, 1)))\n",
    "    k=0\n",
    "    for type in types:\n",
    "        for i in range(1,43):\n",
    "            for j in range(43,85):\n",
    "                # filter data for that type and pair of starting locations (aka the state)\n",
    "                df_filter = df[(df.Type == type) & (df.impact_starting_bucket == i) & (df.receiver_starting_bucket == j) & (df.region == region)]\n",
    "    \n",
    "                n = df_filter.shape[0]\n",
    "                row = k*1764 + (i-1)*42 +(j-42) - 1 # find the row of T that this state corresponds to\n",
    "                Counts.at[row,0] = n\n",
    "                if n != 0:\n",
    "                    for index, shot in df_filter.iterrows(): # loop through the rows for the particular state\n",
    "                        if shot['Error'] == 1:\n",
    "                            T.loc[row, 5292] += 1 # add probabilities for MY error shots\n",
    "                        elif shot['second_error'] == 1:\n",
    "                            T.loc[row, 5294] += 1 # add probabilities for THEIR error shots\n",
    "                        elif shot['Prediction'] == 1:\n",
    "                            T.loc[row, 5293] += 1 # add probabilities for MY winning shots\n",
    "                        elif shot['second_score'] == 1:\n",
    "                            T.loc[row, 5295] += 1 # add probabilities for their winning shots\n",
    "                        else:\n",
    "                            col = col_offset*1764 + (shot['impact_second_start_bucket']-1)*42 +(shot['receiver_second_start_bucket']-42) - 1 # find the column for the ending state                      \n",
    "                            T.loc[row,col] += 1 # add probabilities for MY shots still in play\n",
    "                            \n",
    "                    T.loc[row] = T.loc[row].div(n) # get the proportion by dividing by n\n",
    "        k = k + 1\n",
    "    T.loc[5292:5296,5296] = 1 # add transitions for scoring states going to delta\n",
    "    \n",
    "    counts_name = 'counts_' + region + '.plk'\n",
    "    T_name = 'T_' + region + '.plk'\n",
    "    Counts.to_pickle(counts_name)\n",
    "    T.to_pickle(T_name)\n",
    "    winsound.Beep(2000, 1200)\n",
    "    print('Done: ' + region)\n",
    "\n",
    "winsound.Beep(1000,1800)"
   ],
   "metadata": {
    "collapsed": false,
    "pycharm": {
     "name": "#%% Create TP matrix\n"
    }
   }
  },
  {
   "cell_type": "code",
   "execution_count": 3,
   "outputs": [],
   "source": [
    "# plt.figure()\n",
    "# pf.createLabeledCourt(compressed=True, only_half=False, big_buckets=True,)\n",
    "i = 0\n",
    "plt.figure()\n",
    "pf.plot2D(df.iloc[i:i+8,],compressed=True, only_half=False, big_buckets=True)\n",
    "pf.createCourt(compressed=True, only_half=False, big_buckets=True,)"
   ],
   "metadata": {
    "collapsed": false,
    "pycharm": {
     "name": "#%% Some plots\n",
     "is_executing": false
    }
   }
  },
  {
   "cell_type": "code",
   "execution_count": 32,
   "outputs": [],
   "source": [
    "# T = pd.read_pickle(Path.cwd() / 'pickle' / 'SDP' / 'T_serve_ad_corner_fault.plk')\n",
    "# T = pd.read_pickle(Path.cwd() / 'pickle' / 'SDP' / 'T_serve_ad_middle_fault.plk')\n",
    "# \n",
    "# T = pd.read_pickle(Path.cwd() / 'pickle' / 'SDP' / 'T_serve_deuce_corner_fault.plk')\n",
    "# T = pd.read_pickle(Path.cwd() / 'pickle' / 'SDP' / 'T_serve_deuce_middle_fault.plk')\n",
    "# \n",
    "# T = pd.read_pickle(Path.cwd() / 'pickle' / 'SDP' / 'T_rally_short_ad_fault.plk')\n",
    "# T = pd.read_pickle(Path.cwd() / 'pickle' / 'SDP' / 'T_rally_short_middle_fault.plk')\n",
    "# T = pd.read_pickle(Path.cwd() / 'pickle' / 'SDP' / 'T_rally_short_deuce_fault.plk')\n",
    "# T = pd.read_pickle(Path.cwd() / 'pickle' / 'SDP' / 'T_rally_deep_ad_fault.plk')\n",
    "# T = pd.read_pickle(Path.cwd() / 'pickle' / 'SDP' / 'T_rally_deep_middle_fault.plk')\n",
    "# T = pd.read_pickle(Path.cwd() / 'pickle' / 'SDP' / 'T_rally_deep_deuce_fault.plk')\n",
    "\n",
    "# diag = np.diag(T)\n",
    "# diag = pd.DataFrame(diag)\n",
    "# idx = diag[diag[0]==1]\n",
    "# idx\n",
    "# T.at[3628,3627] = 0.01\n",
    "# T.at[3628,3628] = 0.99\n",
    "# T.to_pickle('T_rally_deep_middle_fault.plk')"
   ],
   "metadata": {
    "collapsed": false,
    "pycharm": {
     "name": "#%% removing singluar matrix\n",
     "is_executing": false
    }
   }
  },
  {
   "cell_type": "code",
   "execution_count": null,
   "outputs": [],
   "source": [
    "col_offset = 2\n",
    "types = ['serve','servereturn','rally']\n",
    "regions = ['serve_ad_corner', 'serve_ad_middle','serve_deuce_corner', 'serve_deuce_middle', 'rally_short_ad',\n",
    "           'rally_short_middle', 'rally_short_deuce','rally_deep_ad','rally_deep_middle','rally_deep_deuce']\n",
    "\n",
    "for region in regions:\n",
    "    T = pd.DataFrame(np.zeros((5297, 5297)))\n",
    "    Counts = pd.DataFrame(np.zeros((5297, 1)))\n",
    "    k=0\n",
    "    for type in types:\n",
    "        for i in range(1,43):\n",
    "            for j in range(43,85):\n",
    "                # filter data for that type and pair of starting locations (aka the state)\n",
    "                df_filter = df[(df.Type == type) & (df.impact_starting_bucket == i) & (df.receiver_starting_bucket == j) & (df.region == region)]\n",
    "    \n",
    "                n = df_filter.shape[0]\n",
    "                row = k*1764 + (i-1)*42 +(j-42) - 1 # find the row of T that this state corresponds to\n",
    "                Counts.at[row,0] = n\n",
    "                if n != 0:\n",
    "                    for index, shot in df_filter.iterrows(): # loop through the rows for the particular state\n",
    "                        if shot['Error'] == 1:\n",
    "                            if type == 'serve':\n",
    "                                T.loc[row, 5292] += 0.09 # add probabilities for MY error shots\n",
    "                                T.loc[row, row] += 0.91\n",
    "                            else:\n",
    "                                T.loc[row, 5292] += 1 # add probabilities for MY error shots\n",
    "                        elif shot['second_error'] == 1:\n",
    "                            T.loc[row, 5294] += 1 # add probabilities for THEIR error shots\n",
    "                        elif shot['Prediction'] == 1:\n",
    "                            T.loc[row, 5293] += 1 # add probabilities for MY winning shots\n",
    "                        elif shot['second_score'] == 1:\n",
    "                            T.loc[row, 5295] += 1 # add probabilities for their winning shots\n",
    "                        else:\n",
    "                            col = col_offset*1764 + (shot['impact_second_start_bucket']-1)*42 +(shot['receiver_second_start_bucket']-42) - 1 # find the column for the ending state                      \n",
    "                            T.loc[row,col] += 1 # add probabilities for MY shots still in play\n",
    "                            \n",
    "                    T.loc[row] = T.loc[row].div(n) # get the proportion by dividing by n\n",
    "        k = k + 1\n",
    "    T.loc[5292:5296,5296] = 1 # add transitions for scoring states going to delta\n",
    "    \n",
    "    counts_name = 'counts_' + region + '.plk'\n",
    "    T_name = 'T_' + region + '.plk'\n",
    "    Counts.to_pickle(counts_name)\n",
    "    T.to_pickle(T_name)\n",
    "    winsound.Beep(2000, 1200)\n",
    "    print('Done: ' + region)\n",
    "\n",
    "winsound.Beep(1000,1800)"
   ],
   "metadata": {
    "collapsed": false,
    "pycharm": {
     "name": "#%% Creating transition matrix with faults on serves\n"
    }
   }
  },
  {
   "cell_type": "code",
   "execution_count": 12,
   "outputs": [],
   "source": [
    "import seaborn as sns\n",
    "\n",
    "\n",
    "df = df[df.Type != 'serve']\n",
    "df_servereturn = df.loc[df['Type']=='servereturn']\n",
    "df_rally = df.loc[df['Type']=='rally']"
   ],
   "metadata": {
    "collapsed": false,
    "pycharm": {
     "name": "#%%\n",
     "is_executing": false
    }
   }
  },
  {
   "cell_type": "code",
   "execution_count": 4,
   "outputs": [],
   "source": [
    "# plt.figure()\n",
    "# df_servereturn = df_servereturn.sample(10000)\n",
    "# df_rally = df_rally.sample(10000)\n",
    "# df = df.sample(1)\n",
    "\n",
    "# sns.distplot(df_servereturn_sample['speed1'],label='servereturn')\n",
    "# sns.distplot(df_rally_sample['speed1'], label='rally')\n",
    "# plt.legend()\n",
    "\n"
   ],
   "metadata": {
    "collapsed": false,
    "pycharm": {
     "name": "#%%\n",
     "is_executing": false
    }
   }
  },
  {
   "cell_type": "code",
   "execution_count": 13,
   "outputs": [],
   "source": [
    "df_rally_deepmid = df_rally[df_rally.region == 'rally_deep_middle'].sample(1000)\n",
    "df_rally_deepdeuce = df_rally[df_rally.region == 'rally_deep_deuce'].sample(1000)\n",
    "df_rally_deepad = df_rally[df_rally.region == 'rally_deep_ad'].sample(1000)\n",
    "df_rally_shortmid = df_rally[df_rally.region == 'rally_short_middle'].sample(1000)\n",
    "df_rally_shortdeuce = df_rally[df_rally.region == 'rally_short_deuce'].sample(1000)\n",
    "df_rally_shortad = df_rally[df_rally.region == 'rally_short_ad'].sample(1000)"
   ],
   "metadata": {
    "collapsed": false,
    "pycharm": {
     "name": "#%%\n",
     "is_executing": false
    }
   }
  },
  {
   "cell_type": "code",
   "execution_count": 15,
   "outputs": [],
   "source": [
    "df_total = pd.concat([df_rally_deepmid,df_rally_deepdeuce,df_rally_deepad,\n",
    "                      df_rally_shortmid,df_rally_shortdeuce,df_rally_shortad])"
   ],
   "metadata": {
    "collapsed": false,
    "pycharm": {
     "name": "#%%\n",
     "is_executing": false
    }
   }
  },
  {
   "cell_type": "code",
   "execution_count": 14,
   "outputs": [],
   "source": [
    "df = df.sample(1)\n",
    "df_rally = df_rally.sample(1)\n",
    "df_servereturn = df_servereturn.sample(1)\n"
   ],
   "metadata": {
    "collapsed": false,
    "pycharm": {
     "name": "#%%\n",
     "is_executing": false
    }
   }
  },
  {
   "cell_type": "code",
   "execution_count": 16,
   "outputs": [],
   "source": [
    "plt.figure()\n",
    "pf.plot1D(df_total,compressed=True, only_half=False, big_buckets=True,)"
   ],
   "metadata": {
    "collapsed": false,
    "pycharm": {
     "name": "#%%\n",
     "is_executing": false
    }
   }
  },
  {
   "cell_type": "code",
   "execution_count": 20,
   "outputs": [
    {
     "name": "stdout",
     "text": [
      "Converged: True\n"
     ],
     "output_type": "stream"
    }
   ],
   "source": [
    "plt.figure()\n",
    "means, covariances, prediction = pf.fitGMM(df_rally_shortmid,1,title=\"\",compressed=True,only_half=False,big_buckets=True)\n",
    "     "
   ],
   "metadata": {
    "collapsed": false,
    "pycharm": {
     "name": "#%%\n",
     "is_executing": false
    }
   }
  },
  {
   "cell_type": "code",
   "execution_count": 14,
   "outputs": [
    {
     "name": "stdout",
     "text": [
      "(27.8056478782798, 5.027941456777878)\n"
     ],
     "output_type": "stream"
    }
   ],
   "source": [
    "from scipy import stats\n",
    "dist = getattr(stats, 'norm')\n",
    "parameters = dist.fit(df_servereturn_sample['speed1'])\n",
    "print(parameters)"
   ],
   "metadata": {
    "collapsed": false,
    "pycharm": {
     "name": "#%%\n",
     "is_executing": false
    }
   }
  },
  {
   "cell_type": "code",
   "execution_count": 16,
   "outputs": [
    {
     "data": {
      "text/plain": "KstestResult(statistic=0.04827786521904587, pvalue=1.1386047829712872e-20)"
     },
     "metadata": {},
     "output_type": "execute_result",
     "execution_count": 16
    }
   ],
   "source": [
    "stats.kstest(df_servereturn_sample['speed1'], \"norm\", parameters)"
   ],
   "metadata": {
    "collapsed": false,
    "pycharm": {
     "name": "#%%\n",
     "is_executing": false
    }
   }
  },
  {
   "cell_type": "code",
   "execution_count": null,
   "outputs": [],
   "source": [
    "\n"
   ],
   "metadata": {
    "collapsed": false,
    "pycharm": {
     "name": "#%%\n"
    }
   }
  }
 ],
 "metadata": {
  "kernelspec": {
   "display_name": "Python 3",
   "language": "python",
   "name": "python3"
  },
  "language_info": {
   "codemirror_mode": {
    "name": "ipython",
    "version": 2
   },
   "file_extension": ".py",
   "mimetype": "text/x-python",
   "name": "python",
   "nbconvert_exporter": "python",
   "pygments_lexer": "ipython2",
   "version": "2.7.6"
  },
  "pycharm": {
   "stem_cell": {
    "cell_type": "raw",
    "source": [],
    "metadata": {
     "collapsed": false
    }
   }
  }
 },
 "nbformat": 4,
 "nbformat_minor": 0
}
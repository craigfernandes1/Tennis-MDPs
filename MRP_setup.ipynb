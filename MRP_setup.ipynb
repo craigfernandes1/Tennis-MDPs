{
 "cells": [
  {
   "cell_type": "markdown",
   "source": [
    "This notebook creates the large df used for the subsequent EPV calculations. \n",
    "It loads the data, and then determines the starting/ending buckets for each player. \n",
    "It then uses this to create a transition probability matrix. The actual computation of \n",
    "the TP is done on my lab computer. "
   ],
   "metadata": {
    "collapsed": false,
    "pycharm": {
     "name": "#%% md\n"
    }
   }
  },
  {
   "cell_type": "code",
   "execution_count": null,
   "metadata": {
    "collapsed": true,
    "pycharm": {
     "name": "#%% Import packages\n",
     "is_executing": false
    }
   },
   "outputs": [],
   "source": [
    "import PlottingFunction as pf\n",
    "import DataManipulation as dm\n",
    "import matplotlib.pyplot as plt\n",
    "from pathlib import Path\n",
    "import pandas as pd\n",
    "import numpy as np\n",
    "import winsound\n",
    "# from sklearn.mixture import GaussianMixture\n",
    "\n",
    "%matplotlib qt5"
   ]
  },
  {
   "cell_type": "code",
   "execution_count": null,
   "outputs": [],
   "source": [
    "# Import data\n",
    "df_serve = pd.read_csv(Path.cwd() / 'data' / 'vast' / \"vast_serve_200k.csv\")\n",
    "df_serve_return = pd.read_csv(Path.cwd() / 'data' / 'vast' / \"vast_serve_return_200k.csv\")\n",
    "df_rally = pd.read_csv(Path.cwd() / 'data' / 'vast' / \"vast_rally_600k.csv\")\n",
    "df = pd.concat([df_serve,df_serve_return, df_rally])\n",
    "# Delete the smaller dfs\n",
    "df_list = [df_serve, df_serve_return, df_rally]\n",
    "del df_serve, df_serve_return, df_rally\n",
    "del df_list\n",
    "# Move state variables to the end\n",
    "df['Type'] = df.type\n",
    "df['Error'] = df.error\n",
    "df['Prediction'] = df.prediction\n",
    "df = df.drop(['error', 'type', 'prediction'], axis=1)\n",
    "# Correct prediction values for errors and winners\n",
    "df['Prediction'] = np.where((df.Error == 1),0,df.Prediction)\n",
    "df['Prediction'] = np.where((df.Prediction > 0.80),1,df.Prediction)\n",
    "# Remove outliers in the data\n",
    "df = dm.keep_data_in_frame(df, compressed=True, only_half=False, big_buckets=True)\n",
    "df = df.reset_index(drop=True)"
   ],
   "metadata": {
    "collapsed": false,
    "pycharm": {
     "name": "#%% Initialize the df\n",
     "is_executing": false
    }
   }
  },
  {
   "cell_type": "code",
   "execution_count": null,
   "outputs": [],
   "source": [
    "df['impact_starting_bucket'] = dm.get_starting_bucket(df, 'impact')\n",
    "df['receiver_starting_bucket'] = dm.get_starting_bucket(df, 'receiver')\n",
    "df['impact_ending_bucket'] = dm.get_ending_bucket(df, 'impact')\n",
    "df['receiver_ending_bucket'] = dm.get_ending_bucket(df, 'receiver')\n",
    "\n",
    "# drop buckets with nan\n",
    "df = df[df['impact_starting_bucket'].notna()]\n",
    "df = df[df['receiver_starting_bucket'].notna()]\n",
    "df = df[df['impact_ending_bucket'].notna()]\n",
    "df = df[df['receiver_ending_bucket'].notna()]\n",
    "\n",
    "# Keep players on their side (start and end)\n",
    "df = df[(df.impact_starting_bucket <= 42) & (df.impact_ending_bucket <= 42) &\n",
    "        (df.receiver_starting_bucket >= 43) & (df.receiver_ending_bucket >= 43)]"
   ],
   "metadata": {
    "collapsed": false,
    "pycharm": {
     "name": "#%% create column for impact bucket and receiver bucket\n",
     "is_executing": false
    }
   }
  },
  {
   "cell_type": "code",
   "execution_count": null,
   "outputs": [],
   "source": [
    "# df = df.iloc[0:10,]\n",
    "# df['Prediction'] = np.where((df.Prediction > 0.75),1,df.Prediction)\n",
    "# df.at[7,'receiver_ending_bucket'] = 83\n",
    "# df.at[9,'receiver_starting_bucket'] = 83\n",
    "# df.at[9,'Prediction'] = 1\n",
    "# df.at[9,'Type'] = 'servereturn'\n",
    "# df.at[8,'impact_starting_bucket'] = 15\n",
    "# df.at[8,'receiver_starting_bucket'] = 83\n",
    "# df.at[8,'Type'] = 'servereturn'\n",
    "# df.at[0,'impact_starting_bucket'] = 15\n",
    "# df.at[0,'receiver_starting_bucket'] = 83\n",
    "# df.at[0,'Type'] = 'servereturn'\n",
    "# df.at[0,'Prediction'] = 1\n",
    "\n",
    "# OR do this\n",
    "# df = pd.concat([df.iloc[0:100,], df.iloc[250000:250100,], df.iloc[500000:500100,]])\n",
    "# df = df.reset_index(drop=True)"
   ],
   "metadata": {
    "collapsed": false,
    "pycharm": {
     "name": "#%% Create small TP example to test out equations\n",
     "is_executing": false
    }
   }
  },
  {
   "cell_type": "code",
   "execution_count": null,
   "outputs": [],
   "source": [
    "impact_second_start_bucket = pd.DataFrame(np.zeros((len(df), 1)))\n",
    "receiver_second_start_bucket = pd.DataFrame(np.zeros((len(df), 1)))\n",
    "second_score = pd.DataFrame(np.zeros((len(df), 1)))\n",
    "second_error = pd.DataFrame(np.zeros((len(df), 1)))\n",
    "\n",
    "next_play = {'serve':'servereturn', 'servereturn': 'rally', 'rally':'rally' }\n",
    "\n",
    "for index, shot in df.iterrows():\n",
    "    \n",
    "    # if first shot ended, then don't need to sample a second shot\n",
    "    if shot['Error'] == 1 or shot['Prediction'] == 1:\n",
    "        impact_second_start_bucket.loc[index] = 'na'\n",
    "        receiver_second_start_bucket.loc[index] = 'na' \n",
    "        second_error.loc[index] = 'na' \n",
    "        second_score.loc[index] = 'na'\n",
    "    \n",
    "    # sample a second shot\n",
    "    else:\n",
    "        # get starting locations of second shot, based on ending locations of first shot\n",
    "        p_start_2 = 85 - shot['receiver_ending_bucket']\n",
    "        o_start_2 = 85 - shot['impact_ending_bucket']\n",
    "        # get second shot posibilities\n",
    "        df_filter = df[(df.Type == next_play[shot['Type']]) & (df.impact_starting_bucket == p_start_2) & (df.receiver_starting_bucket == o_start_2)]\n",
    "        # sample one instance of a second shot\n",
    "        if df_filter.shape[0] != 0:\n",
    "            return_shot = df_filter.sample()\n",
    "        \n",
    "        # if second shot errors/wins, record that\n",
    "        if return_shot.Error.values == 1:\n",
    "            second_error.loc[index] = 1  \n",
    "        if return_shot.Prediction.values == 1:\n",
    "            second_score.loc[index] = 1\n",
    "\n",
    "        # get starting positions of the double prime\n",
    "        impact_second_start_bucket.loc[index] = 85 - return_shot.receiver_ending_bucket.values\n",
    "        receiver_second_start_bucket.loc[index] = 85 - return_shot.impact_ending_bucket.values "
   ],
   "metadata": {
    "collapsed": false,
    "pycharm": {
     "name": "#%% determine the second starting locations\n",
     "is_executing": false
    }
   }
  },
  {
   "cell_type": "code",
   "execution_count": null,
   "outputs": [],
   "source": [
    "df['second_error'] = second_error\n",
    "df['second_score'] = second_score\n",
    "df['impact_second_start_bucket'] = impact_second_start_bucket\n",
    "df['receiver_second_start_bucket'] = receiver_second_start_bucket"
   ],
   "metadata": {
    "collapsed": false,
    "pycharm": {
     "name": "#%% append the double prime to original df\n",
     "is_executing": false
    }
   }
  },
  {
   "cell_type": "code",
   "execution_count": null,
   "outputs": [],
   "source": [
    "df = df[df.second_error != 'none']\n",
    "TP = pd.DataFrame(np.zeros((5297, 5297)))\n",
    "Counts = pd.DataFrame(np.zeros((5297, 1)))\n",
    "types = ['serve','servereturn','rally']\n",
    "col_offset = [2,2,2]\n",
    "k=0\n",
    "\n",
    "for type in types:\n",
    "    for i in range(1,43):\n",
    "        for j in range(43,85):\n",
    "            # filter data for that type and pair of starting locations (aka the state)\n",
    "            df_filter = df[(df.Type == type) & (df.impact_starting_bucket == i) & (df.receiver_starting_bucket == j)]\n",
    "\n",
    "            n = df_filter.shape[0]\n",
    "            row = k*1764 + (i-1)*42 +(j-42) - 1 # find the row of TP that this state corresponds to\n",
    "            Counts.at[row,0] = n\n",
    "            if n != 0:\n",
    "                for index, shot in df_filter.iterrows(): # loop through the rows for the particular state\n",
    "                    if shot['Error'] == 1:\n",
    "                        TP.loc[row, 5292] += 1 # add probabilities for MY error shots\n",
    "                    elif shot['second_error'] == 1:\n",
    "                        TP.loc[row, 5294] += 1 # add probabilities for THEIR error shots\n",
    "                    elif shot['Prediction'] == 1:\n",
    "                        TP.loc[row, 5293] += 1 # add probabilities for MY winning shots\n",
    "                    elif shot['second_score'] == 1:\n",
    "                        TP.loc[row, 5295] += 1 # add probabilities for their winning shots\n",
    "                    else:\n",
    "                        col = col_offset[k]*1764 + (shot['impact_second_start_bucket']-1)*42 +(shot['receiver_second_start_bucket']-42) - 1 # find the column for the ending state                      \n",
    "                        TP.loc[row,col] += 1 # add probabilities for MY shots still in play\n",
    "                        \n",
    "                TP.loc[row] = TP.loc[row].div(n) # get the proportion by dividing by n\n",
    "    k = k + 1\n",
    "TP.loc[5292:5296,5296] = 1 # add transitions for scoring states going to delta\n",
    "\n",
    "winsound.Beep(2000, 800)\n",
    "\n"
   ],
   "metadata": {
    "collapsed": false,
    "pycharm": {
     "name": "#%% Create transition prob matrix without action set and get counts for each state\n",
     "is_executing": false
    }
   }
  }
 ],
 "metadata": {
  "kernelspec": {
   "display_name": "Python 3",
   "language": "python",
   "name": "python3"
  },
  "language_info": {
   "codemirror_mode": {
    "name": "ipython",
    "version": 2
   },
   "file_extension": ".py",
   "mimetype": "text/x-python",
   "name": "python",
   "nbconvert_exporter": "python",
   "pygments_lexer": "ipython2",
   "version": "2.7.6"
  },
  "pycharm": {
   "stem_cell": {
    "cell_type": "raw",
    "source": [],
    "metadata": {
     "collapsed": false
    }
   }
  }
 },
 "nbformat": 4,
 "nbformat_minor": 0
}
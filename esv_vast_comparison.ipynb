{
 "cells": [
  {
   "cell_type": "code",
   "execution_count": 2,
   "metadata": {
    "collapsed": true,
    "pycharm": {
     "name": "#%% Import packages\n",
     "is_executing": false
    }
   },
   "outputs": [],
   "source": [
    "from PlottingFunction import *\n",
    "import matplotlib.pyplot as plt\n",
    "from pathlib import Path\n",
    "import pandas as pd\n",
    "\n",
    "%matplotlib qt"
   ]
  },
  {
   "cell_type": "code",
   "execution_count": 14,
   "outputs": [],
   "source": [
    "df = pd.read_csv(Path.cwd() / 'data' / 'esv' / 'data_esv_vast.csv')"
   ],
   "metadata": {
    "collapsed": false,
    "pycharm": {
     "name": "#%% Import data and remove outliers\n",
     "is_executing": false
    }
   }
  },
  {
   "cell_type": "code",
   "execution_count": 37,
   "outputs": [],
   "source": [
    "diff_vast_pred = np.abs(df.prediction - df.vast)\n",
    "diff_vast_esv = np.abs(df.esv_mean - df.vast)\n",
    "diff_pred_esv = np.abs(df.prediction - df.esv_mean)"
   ],
   "metadata": {
    "collapsed": false,
    "pycharm": {
     "name": "#%% Get differences between vast, prediction and esv\n",
     "is_executing": false
    }
   }
  },
  {
   "cell_type": "code",
   "execution_count": 38,
   "outputs": [],
   "source": [
    "mean_diff_vast_pred = diff_vast_pred.mean()\n",
    "mean_diff_vast_esv = diff_vast_esv.mean()\n",
    "mean_diff_pred_esv = diff_pred_esv.mean()"
   ],
   "metadata": {
    "collapsed": false,
    "pycharm": {
     "name": "#%% Get the mean value for the differences\n",
     "is_executing": false
    }
   }
  },
  {
   "cell_type": "code",
   "execution_count": 39,
   "outputs": [
    {
     "data": {
      "text/plain": "Text(0.5, 1.0, 'diff_pred_esv')"
     },
     "metadata": {},
     "output_type": "execute_result",
     "execution_count": 39
    }
   ],
   "source": [
    "plt.figure()\n",
    "plt.plot(df.index, diff_vast_pred)\n",
    "plt.title(\"diff_vast_pred\")\n",
    "plt.figure()\n",
    "plt.plot(df.index, diff_vast_esv)\n",
    "plt.title(\"diff_vast_esv\")\n",
    "plt.figure()\n",
    "plt.plot(df.index, diff_pred_esv)\n",
    "plt.title(\"diff_pred_esv\")\n"
   ],
   "metadata": {
    "collapsed": false,
    "pycharm": {
     "name": "#%%\n",
     "is_executing": false
    }
   }
  },
  {
   "cell_type": "code",
   "execution_count": null,
   "outputs": [],
   "source": [
    "\n"
   ],
   "metadata": {
    "collapsed": false,
    "pycharm": {
     "name": "#%%\n"
    }
   }
  }
 ],
 "metadata": {
  "kernelspec": {
   "display_name": "Python 3",
   "language": "python",
   "name": "python3"
  },
  "language_info": {
   "codemirror_mode": {
    "name": "ipython",
    "version": 2
   },
   "file_extension": ".py",
   "mimetype": "text/x-python",
   "name": "python",
   "nbconvert_exporter": "python",
   "pygments_lexer": "ipython2",
   "version": "2.7.6"
  },
  "pycharm": {
   "stem_cell": {
    "cell_type": "raw",
    "source": [],
    "metadata": {
     "collapsed": false
    }
   }
  }
 },
 "nbformat": 4,
 "nbformat_minor": 0
}
{
 "cells": [
  {
   "cell_type": "markdown",
   "source": [
    "This notebook will perform an sensitivity analysis on the execution error within the MDP"
   ],
   "metadata": {
    "collapsed": false
   }
  },
  {
   "cell_type": "code",
   "execution_count": 1,
   "outputs": [],
   "source": [
    "import PlottingFunction as pf\n",
    "import DataManipulation as dm\n",
    "import Policy_iteration_functions as f\n",
    "import matplotlib.pyplot as plt\n",
    "from pathlib import Path\n",
    "import pandas as pd\n",
    "import numpy as np\n",
    "import math\n",
    "import time\n",
    "import winsound\n",
    "\n",
    "%matplotlib qt5"
   ],
   "metadata": {
    "collapsed": false,
    "pycharm": {
     "name": "#%% Import packages\n",
     "is_executing": false
    }
   }
  },
  {
   "cell_type": "code",
   "execution_count": 2,
   "outputs": [],
   "source": [
    "# get frequency policy\n",
    "freq_policy = f.get_most_frequent_policy()\n",
    "counts = f.get_opt_policy_counts(freq_policy)\n",
    "idx = counts > 20\n",
    "# init_policy = np.concatenate((np.random.randint(2, size=(1764, 1)), np.random.randint(2,8, size=(1764*2, 1)))) \n",
    "\n",
    "error_fracs = [0.0, 0.05, 0.1, 0.15, 0.2, 0.25, 0.3, 0.35, 0.4, 0.45, 0.50]\n",
    "# error_fracs = [0.0]\n",
    "V_mean = pd.DataFrame(index=error_fracs, columns=['A', 'B', 'C', 'D', 'E', 'F', 'G', 'H', 'I', 'J', 'K','L','M','N','O'])\n",
    "# V_mean = pd.DataFrame(index=error_fracs, columns=['A'])\n",
    "\n",
    "for col in V_mean.columns:\n",
    "    for error_frac in error_fracs:\n",
    "        policy = f.add_generic_error_to_policy(freq_policy,error_frac)\n",
    "        T = f.get_policy_specific_transition_matrix(policy)\n",
    "        V = f.calculate_V(T)\n",
    "        V_mean.loc[error_frac][col] = V[idx[:,0]].mean() # get V_mean for states with more observations\n"
   ],
   "metadata": {
    "collapsed": false,
    "pycharm": {
     "name": "#%% Evaluate most frequent policy with error\n",
     "is_executing": false
    }
   }
  },
  {
   "cell_type": "code",
   "execution_count": 6,
   "outputs": [],
   "source": [
    "means = V_mean.mean(axis=1)\n",
    "stds = V_mean.std(axis=1)\n",
    "loss_in_accuracy = (np.diff(means)).mean()\n",
    "\n",
    "plt.rcParams.update({'font.size': 18})\n",
    "\n",
    "plt.figure()\n",
    "means.plot()\n",
    "plt.errorbar(error_fracs, means, stds, linestyle='None', marker='^')\n",
    "plt.xlabel('Fraction of Execution Error')\n",
    "plt.ylabel('Average Expected Value')\n",
    "# plt.title('Error Sensitivity Analysis on Frequency Policy ')\n",
    "winsound.Beep(2000,800)"
   ],
   "metadata": {
    "collapsed": false,
    "pycharm": {
     "name": "#%% Plot Value vs Error \n",
     "is_executing": false
    }
   }
  },
  {
   "cell_type": "code",
   "execution_count": null,
   "outputs": [],
   "source": [
    "# counts = f.get_opt_policy_counts(freq_policy)\n",
    "# counts_full = dm.reformatVector(counts)\n",
    "# V_full = dm.reformatVector(np.reshape(V, (-1, 1)))\n",
    "# opt_policy_full = dm.reformatVector(freq_policy)\n",
    "# \n",
    "# V_mean_serve = V_full['serve'].mean()\n",
    "# V_mean_servereturn = V_full['servereturn'].mean()\n",
    "# V_mean_rally = V_full['rally'].mean()\n",
    "\n",
    "# counts_rally = counts_full['rally']\n",
    "# idx = counts > 25\n",
    "# np.count_nonzero(idx)\n",
    "# V[idx[:,0]].mean()"
   ],
   "metadata": {
    "collapsed": false,
    "pycharm": {
     "name": "#%%\n"
    }
   }
  },
  {
   "cell_type": "code",
   "execution_count": 4,
   "outputs": [],
   "source": [
    "lol  = 5"
   ],
   "metadata": {
    "collapsed": false,
    "pycharm": {
     "name": "#%%\n",
     "is_executing": false
    }
   }
  },
  {
   "cell_type": "code",
   "execution_count": 2,
   "outputs": [],
   "source": [
    "freq_policy = f.get_most_frequent_policy()\n",
    "counts = f.get_opt_policy_counts(freq_policy)\n",
    "T = f.get_policy_specific_transition_matrix(freq_policy)\n",
    "V = f.calculate_V(T)\n",
    "\n",
    "counts_full = dm.reformatVector(counts)\n",
    "V_full = dm.reformatVector(np.reshape(V, (-1, 1)))\n",
    "opt_policy_full = dm.reformatVector(freq_policy)"
   ],
   "metadata": {
    "collapsed": false,
    "pycharm": {
     "name": "#%%\n",
     "is_executing": false
    }
   }
  },
  {
   "cell_type": "code",
   "execution_count": 4,
   "outputs": [],
   "source": [
    "# plt.rcParams.update({'font.size': 14})\n",
    "bucket = 9\n",
    "choice = 'serve'\n",
    "plt.figure()\n",
    "pf.createMDPheatmap(V_full, counts_full, opt_policy_full, bucket, choice,vmin=0, compressed=True, only_half=False, big_buckets=True, half_label=True)\n",
    "# plt.subplots_adjust(top=0.97,bottom=0.02,left=0.04,right=0.97,hspace=0.2,wspace=0.2)\n"
   ],
   "metadata": {
    "collapsed": false,
    "pycharm": {
     "name": "#%%\n",
     "is_executing": false
    }
   }
  },
  {
   "cell_type": "code",
   "execution_count": null,
   "outputs": [],
   "source": [
    "\n"
   ],
   "metadata": {
    "collapsed": false,
    "pycharm": {
     "name": "#%%\n"
    }
   }
  }
 ],
 "metadata": {
  "kernelspec": {
   "display_name": "Python 3",
   "language": "python",
   "name": "python3"
  },
  "language_info": {
   "codemirror_mode": {
    "name": "ipython",
    "version": 2
   },
   "file_extension": ".py",
   "mimetype": "text/x-python",
   "name": "python",
   "nbconvert_exporter": "python",
   "pygments_lexer": "ipython2",
   "version": "2.7.6"
  },
  "pycharm": {
   "stem_cell": {
    "cell_type": "raw",
    "source": [],
    "metadata": {
     "collapsed": false
    }
   }
  }
 },
 "nbformat": 4,
 "nbformat_minor": 0
}
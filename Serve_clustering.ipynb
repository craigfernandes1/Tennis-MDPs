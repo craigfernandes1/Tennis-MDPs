{
 "cells": [
  {
   "cell_type": "code",
   "execution_count": 1,
   "outputs": [],
   "source": [
    "import PlottingFunction as pf\n",
    "import DataManipulation as dm\n",
    "import matplotlib.pyplot as plt\n",
    "from pathlib import Path\n",
    "import pandas as pd\n",
    "from sklearn.cluster import KMeans\n",
    "import winsound\n",
    "\n",
    "%matplotlib qt5"
   ],
   "metadata": {
    "collapsed": false,
    "pycharm": {
     "name": "#%% Import packages\n",
     "is_executing": false
    }
   }
  },
  {
   "cell_type": "code",
   "execution_count": 2,
   "outputs": [
    {
     "name": "stderr",
     "text": [
      "C:\\Users\\craig\\PycharmProjects\\TennisResearch - Python\\DataManipulation.py:71: SettingWithCopyWarning: \n",
      "A value is trying to be set on a copy of a slice from a DataFrame.\n",
      "Try using .loc[row_indexer,col_indexer] = value instead\n",
      "\n",
      "See the caveats in the documentation: https://pandas.pydata.org/pandas-docs/stable/user_guide/indexing.html#returning-a-view-versus-a-copy\n",
      "  df.vast)\n",
      "C:\\Users\\craig\\PycharmProjects\\TennisResearch - Python\\DataManipulation.py:68: SettingWithCopyWarning: \n",
      "A value is trying to be set on a copy of a slice from a DataFrame.\n",
      "Try using .loc[row_indexer,col_indexer] = value instead\n",
      "\n",
      "See the caveats in the documentation: https://pandas.pydata.org/pandas-docs/stable/user_guide/indexing.html#returning-a-view-versus-a-copy\n",
      "  df.vast)\n"
     ],
     "output_type": "stream"
    }
   ],
   "source": [
    "df = pd.read_csv(Path.cwd() / 'data' / 'vast' / \"vast_serve_200k.csv\")\n",
    "df = dm.keep_data_in_frame(df, compressed=False, only_half=True)\n",
    "df_deuce = df[df.adpoint==0]\n",
    "df_ad = df[df.adpoint==1]\n",
    "df_deuce = dm.change_vast_error_shots(df_deuce,'deuce_serve')\n",
    "df_ad = dm.change_vast_error_shots(df_ad,'ad_serve')\n",
    "df_serves = {\"Deuce\": df_deuce, \"Ad\": df_ad}\n"
   ],
   "metadata": {
    "collapsed": false,
    "pycharm": {
     "name": "#%% Import data and clean\n",
     "is_executing": false
    }
   }
  },
  {
   "cell_type": "code",
   "execution_count": 3,
   "outputs": [],
   "source": [
    "means = {}\n",
    "overlap = False\n",
    "n_clusters = 3\n",
    "\n",
    "for df_label in df_serves:\n",
    "    df = df_serves[df_label]\n",
    "    if df_label == \"Deuce\":\n",
    "        receiver_regions = pf.createPlayerRegions(type = 'deuce_serve')\n",
    "    else:\n",
    "        receiver_regions = pf.createPlayerRegions(type = 'ad_serve')\n",
    "    plt.figure()\n",
    "    i = 0\n",
    "    for receiver_region in receiver_regions:\n",
    "        df_filter = df\n",
    "        df_filter = dm.filter_data_by_buckets(df_filter, 'receiver_start', receiver_regions[receiver_region], compressed=True)\n",
    "\n",
    "        if overlap == True:\n",
    "            cluster = KMeans(n_clusters=n_clusters, random_state=0).fit(df_filter[['x02', 'y02', 'px0', 'py0', 'ox0', 'oy0']])\n",
    "        else:\n",
    "            cluster = KMeans(n_clusters=n_clusters, random_state=0).fit(df_filter[['x02', 'y02']])\n",
    "        centroids = cluster.cluster_centers_\n",
    "        df_filter[\"Cluster\"] = cluster.labels_\n",
    "        \n",
    "        means_tmp = df_filter.groupby('Cluster')['vast'].mean()\n",
    "        means[df_label, receiver_region] = means_tmp\n",
    "\n",
    "        plt.subplot(1, 3, 1+i)\n",
    "        pf.plot1D(df_filter, centroids, means_tmp, alpha_ball = 0.50, receiver_position='receiver_start', just_ball=True, compressed=True, only_half=True, \n",
    "                  title =  \"Clustered \" + df_label + \" Serves with the Receiver at the \" + receiver_region)\n",
    "        pf.markupCourt('receiver_start',receiver_regions[receiver_region],compressed=True)\n",
    "        pf.caption_cluster_plots(df_filter, centroids, n_clusters)\n",
    "        i=i+1\n",
    "        \n",
    "    plt.subplots_adjust(top=0.7,bottom=0.2,left=0.04,right=0.97,hspace=0.15,wspace=0.17)\n",
    "\n",
    "winsound.Beep(2000, 800)"
   ],
   "metadata": {
    "collapsed": false,
    "pycharm": {
     "name": "#%% Cluster the data\n",
     "is_executing": false
    }
   }
  },
  {
   "cell_type": "code",
   "execution_count": null,
   "outputs": [],
   "source": [
    "\n"
   ],
   "metadata": {
    "collapsed": false,
    "pycharm": {
     "name": "#%%\n"
    }
   }
  }
 ],
 "metadata": {
  "kernelspec": {
   "display_name": "Python 3",
   "language": "python",
   "name": "python3"
  },
  "language_info": {
   "codemirror_mode": {
    "name": "ipython",
    "version": 2
   },
   "file_extension": ".py",
   "mimetype": "text/x-python",
   "name": "python",
   "nbconvert_exporter": "python",
   "pygments_lexer": "ipython2",
   "version": "2.7.6"
  },
  "pycharm": {
   "stem_cell": {
    "cell_type": "raw",
    "source": [],
    "metadata": {
     "collapsed": false
    }
   }
  }
 },
 "nbformat": 4,
 "nbformat_minor": 0
}
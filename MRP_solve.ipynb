{
 "cells": [
  {
   "cell_type": "markdown",
   "source": [
    "This notebook takes in the transition probability matrix and computes the V's for a \n",
    "simple Markov Reward Process (aka, no action set). "
   ],
   "metadata": {
    "collapsed": false
   }
  },
  {
   "cell_type": "code",
   "execution_count": 1,
   "metadata": {
    "collapsed": true,
    "pycharm": {
     "name": "#%% Import packages\n",
     "is_executing": false
    }
   },
   "outputs": [],
   "source": [
    "import PlottingFunction as pf\n",
    "import DataManipulation as dm\n",
    "import Policy_iteration_functions as f\n",
    "import matplotlib.pyplot as plt\n",
    "from pathlib import Path\n",
    "import pandas as pd\n",
    "import numpy as np\n",
    "import winsound\n",
    "# from sklearn.mixture import GaussianMixture\n",
    "\n",
    "%matplotlib qt5"
   ]
  },
  {
   "cell_type": "code",
   "execution_count": 2,
   "outputs": [],
   "source": [
    "# Load the TP and counts matrix\n",
    "TP = pd.read_pickle(Path.cwd() / 'pickle' / 'TP' /'TP_0.8_doubleprime.plk')\n",
    "count = pd.read_pickle(Path.cwd() / 'pickle' / 'TP' /'Counts_0.8_doubleprime.plk')"
   ],
   "metadata": {
    "collapsed": false,
    "pycharm": {
     "name": "#%% \n",
     "is_executing": false
    }
   }
  },
  {
   "cell_type": "code",
   "execution_count": 3,
   "outputs": [],
   "source": [
    "TP = f.fix_T_for_unseen_states(TP)\n",
    "TP = TP.to_numpy()\n",
    "count = count.to_numpy()\n",
    "count_full = dm.reformatVector(count)\n",
    "V = f.calculate_V(TP)\n",
    "V_full = dm.reformatVector(np.reshape(V, (-1, 1)))"
   ],
   "metadata": {
    "collapsed": false,
    "pycharm": {
     "name": "#%%\n",
     "is_executing": false
    }
   }
  },
  {
   "cell_type": "code",
   "execution_count": 5,
   "outputs": [],
   "source": [
    "# Visualize the V's\n",
    "bucket = 9\n",
    "choice = 'rally'\n",
    "\n",
    "plt.figure(2)\n",
    "pf.createMRPheatmap(V_full, count_full, bucket, choice,vmin=0, compressed=True, only_half=False, big_buckets=True, half_label=True)\n",
    "# title = \"Value Function Results for Rallies when I am in Bucket {} and the Receiver is in Various Locations\".format(bucket)\n",
    "# plt.title(title)\n",
    "winsound.Beep(2000,800)\n"
   ],
   "metadata": {
    "collapsed": false,
    "pycharm": {
     "name": "#%%\n",
     "is_executing": false
    }
   }
  },
  {
   "cell_type": "code",
   "execution_count": null,
   "outputs": [],
   "source": [
    "\n"
   ],
   "metadata": {
    "collapsed": false,
    "pycharm": {
     "name": "#%%\n"
    }
   }
  }
 ],
 "metadata": {
  "kernelspec": {
   "display_name": "Python 3",
   "language": "python",
   "name": "python3"
  },
  "language_info": {
   "codemirror_mode": {
    "name": "ipython",
    "version": 2
   },
   "file_extension": ".py",
   "mimetype": "text/x-python",
   "name": "python",
   "nbconvert_exporter": "python",
   "pygments_lexer": "ipython2",
   "version": "2.7.6"
  },
  "pycharm": {
   "stem_cell": {
    "cell_type": "raw",
    "source": [],
    "metadata": {
     "collapsed": false
    }
   }
  }
 },
 "nbformat": 4,
 "nbformat_minor": 0
}
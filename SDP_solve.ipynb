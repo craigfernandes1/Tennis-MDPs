{
 "cells": [
  {
   "cell_type": "markdown",
   "metadata": {
    "collapsed": true,
    "pycharm": {
     "name": "#%% md\n"
    }
   },
   "source": [
    "# This notebook will solve the MDP by calling the policy iteration functions but using a probabilistic action set"
   ]
  },
  {
   "cell_type": "code",
   "execution_count": 1,
   "outputs": [],
   "source": [
    "import PlottingFunction as pf\n",
    "import DataManipulation as dm\n",
    "import Policy_iteration_functions as f\n",
    "import matplotlib.pyplot as plt\n",
    "from pathlib import Path\n",
    "import pandas as pd\n",
    "import numpy as np\n",
    "import winsound\n",
    "\n",
    "%matplotlib qt5"
   ],
   "metadata": {
    "collapsed": false,
    "pycharm": {
     "name": "#%% Import packages\n",
     "is_executing": false
    }
   }
  },
  {
   "cell_type": "markdown",
   "source": [
    "## Base transition matrix and values \n",
    "Create the stochastic action set and create the transition matrix and solve for the V's"
   ],
   "metadata": {
    "collapsed": false
   }
  },
  {
   "cell_type": "code",
   "execution_count": 2,
   "outputs": [],
   "source": [
    "count = pd.read_pickle(Path.cwd() / 'pickle' / 'TP' /'Counts_0.8_doubleprime.plk')\n",
    "\n",
    "q_ad_serve, q_deuce_serve, q_rally = f.get_q_dist()\n",
    "T = f.get_probabilistic_transition_matrix(q_ad_serve, q_deuce_serve, q_rally)\n",
    "V_base = f.calculate_V(T)\n",
    "V_sum, V_avg, V_top_avg, V_serve, V_count_worse = f.get_V_measures(V_base,count,V_base)\n",
    "V_full = dm.reformatVector(np.reshape(V_base, (-1, 1)))\n",
    "count_full = dm.reformatVector(count.to_numpy())"
   ],
   "metadata": {
    "collapsed": false,
    "pycharm": {
     "name": "#%% Get probabilistic action transition matrix\n",
     "is_executing": false
    }
   }
  },
  {
   "cell_type": "markdown",
   "source": [
    "## Error Scenario #1: Short Shorts Erring Long"
   ],
   "metadata": {
    "collapsed": false
   }
  },
  {
   "cell_type": "code",
   "execution_count": null,
   "outputs": [],
   "source": [
    "error_fracs = [0, 0.05, 0.10, 0.15, 0.20, 0.25, 0.30, 0.35, 0.40, 0.45, 0.50]\n",
    "\n",
    "V_stats_short_err = pd.DataFrame(np.zeros((len(error_fracs),5)), columns=['V_sum', 'V_avg', 'V_top_avg', 'V_serve', 'V_count_worse'], index = error_fracs)\n",
    "\n",
    "for ix,err in enumerate(error_fracs):\n",
    "    q_ad_serve, q_deuce_serve, q_rally = f.get_q_dist()\n",
    "    \n",
    "    # make copy of short shots and get err % of them\n",
    "    adj = q_rally.iloc[:,0:3].copy()\n",
    "    adj *= err \n",
    "    # subtract the err % from short shots\n",
    "    q_rally.iloc[:,0:3] -= err*q_rally.iloc[:,0:3]\n",
    "    # Add the err % to the long shots \n",
    "    q_rally.iloc[:,3] += adj.iloc[:,0]\n",
    "    q_rally.iloc[:,4] += adj.iloc[:,1]\n",
    "    q_rally.iloc[:,5] += adj.iloc[:,2]\n",
    "    \n",
    "    # Create the probabilistic action T and solve for V's\n",
    "    T = f.get_probabilistic_transition_matrix(q_ad_serve, q_deuce_serve, q_rally)\n",
    "    V = f.calculate_V(T)\n",
    "    \n",
    "    # Calculate the summary stats\n",
    "    V_stats_short_err.iloc[ix,:] = f.get_V_measures(V,count,V_base)\n",
    "\n",
    "winsound.Beep(2000,800)"
   ],
   "metadata": {
    "collapsed": false,
    "pycharm": {
     "name": "#%% Try adding some error of short shots going long\n",
     "is_executing": false
    }
   }
  },
  {
   "cell_type": "code",
   "execution_count": null,
   "outputs": [],
   "source": [
    "f.plot_error_values(V_stats_short_err,\"Impact of Short Shots Erring Long\",3)"
   ],
   "metadata": {
    "collapsed": false,
    "pycharm": {
     "name": "#%%\n",
     "is_executing": false
    }
   }
  },
  {
   "cell_type": "markdown",
   "source": [
    "## Error Scenario #1: Long Shorts Erring Short"
   ],
   "metadata": {
    "collapsed": false
   }
  },
  {
   "cell_type": "code",
   "execution_count": null,
   "outputs": [],
   "source": [
    "error_fracs = [0, 0.05, 0.10, 0.15, 0.20, 0.25, 0.30, 0.35, 0.40, 0.45, 0.50]\n",
    "\n",
    "V_stats_long_err = pd.DataFrame(np.zeros((len(error_fracs),5)), columns=['V_sum', 'V_avg', 'V_top_avg', 'V_serve', 'V_count_worse'], index = error_fracs)\n",
    "\n",
    "for ix,err in enumerate(error_fracs):\n",
    "    q_ad_serve, q_deuce_serve, q_rally = f.get_q_dist()\n",
    "    \n",
    "    # make copy of short shots and get err % of them\n",
    "    adj = q_rally.iloc[:,3:6].copy()\n",
    "    adj *= err \n",
    "    # subtract the err % from short shots\n",
    "    q_rally.iloc[:,3:6] -= err*q_rally.iloc[:,3:6]\n",
    "    # Add the err % to the long shots \n",
    "    q_rally.iloc[:,0] += adj.iloc[:,0]\n",
    "    q_rally.iloc[:,1] += adj.iloc[:,1]\n",
    "    q_rally.iloc[:,2] += adj.iloc[:,2]\n",
    "    \n",
    "    # Create the probabilistic action T and solve for V's\n",
    "    T = f.get_probabilistic_transition_matrix(q_ad_serve, q_deuce_serve, q_rally)\n",
    "    V = f.calculate_V(T)\n",
    "    \n",
    "    # Calculate the summary stats\n",
    "    V_stats_long_err.iloc[ix,:] = f.get_V_measures(V,count, V_base)\n",
    "\n",
    "winsound.Beep(2000,800)"
   ],
   "metadata": {
    "collapsed": false,
    "pycharm": {
     "name": "#%% Try adding some error of long shots going short\n",
     "is_executing": false
    }
   }
  },
  {
   "cell_type": "code",
   "execution_count": null,
   "outputs": [],
   "source": [
    "f.plot_error_values(V_stats_long_err,\"Impact of Long Shots Erring Short\",3)"
   ],
   "metadata": {
    "collapsed": false,
    "pycharm": {
     "name": "#%%\n",
     "is_executing": false
    }
   }
  },
  {
   "cell_type": "markdown",
   "source": [
    "## Error Scenario #3: Forehand / Backhand error\n",
    "For the bottom four rows of rally shots, take fraction of the proportion\n",
    "of the 2nd most chosen action, and put it to the most chosen action"
   ],
   "metadata": {
    "collapsed": false
   }
  },
  {
   "cell_type": "code",
   "execution_count": 9,
   "outputs": [],
   "source": [
    "error_fracs = [0, 0.05, 0.10, 0.15, 0.20, 0.25, 0.30, 0.35, 0.40, 0.45, 0.50]\n",
    "V_stats_forehand_err = pd.DataFrame(np.zeros((len(error_fracs),5)), columns=['V_sum', 'V_avg', 'V_top_avg', 'V_serve', 'V_count_worse'], index = error_fracs)\n",
    "\n",
    "for ix,err in enumerate(error_fracs):\n",
    "    q_ad_serve, q_deuce_serve, q_rally = f.get_q_dist()\n",
    "    for i in range(1764,5297):\n",
    "        \n",
    "        shot_type = f.check_forehand_vs_backhand(i)\n",
    "        \n",
    "        if shot_type == 'forehand':\n",
    "        \n",
    "            # Get 2 actions that are most used and calculate err from the max\n",
    "            top_2 = q_rally.iloc[i].nlargest(2)\n",
    "            adj = top_2.iloc[0]*err\n",
    "            \n",
    "            # Remove adj from max and add it to the second_max\n",
    "            q_rally.iloc[i,top_2.index[0]] -= adj\n",
    "            q_rally.iloc[i,top_2.index[1]] += adj\n",
    "        \n",
    "    # Create the probabilistic action T and solve for V's\n",
    "    T = f.get_probabilistic_transition_matrix(q_ad_serve, q_deuce_serve, q_rally)\n",
    "    V = f.calculate_V(T)\n",
    "    \n",
    "    # Calculate the summary stats\n",
    "    V_stats_forehand_err.iloc[ix,:] = f.get_V_measures(V,count, V_base)\n",
    "    \n",
    "winsound.Beep(2000,800)"
   ],
   "metadata": {
    "collapsed": false,
    "pycharm": {
     "name": "#%%\n",
     "is_executing": false
    }
   }
  },
  {
   "cell_type": "code",
   "execution_count": 8,
   "outputs": [],
   "source": [
    "f.plot_error_values(V_stats_forehand_err,\"Impact of Forehand Error\",3)"
   ],
   "metadata": {
    "collapsed": false,
    "pycharm": {
     "name": "#%%\n",
     "is_executing": false
    }
   }
  },
  {
   "cell_type": "code",
   "execution_count": 5,
   "outputs": [],
   "source": [
    "bucket = 27\n",
    "choice = 'rally'\n",
    "\n",
    "plt.figure()\n",
    "pf.createMRPheatmap(V_full, count_full, bucket, choice,vmin=0, compressed=True, only_half=False, big_buckets=True, half_label=True)\n",
    "winsound.Beep(2000,800)"
   ],
   "metadata": {
    "collapsed": false,
    "pycharm": {
     "name": "#%% Plot the V's\n",
     "is_executing": false
    }
   }
  },
  {
   "cell_type": "code",
   "execution_count": null,
   "outputs": [],
   "source": [
    "\n"
   ],
   "metadata": {
    "collapsed": false,
    "pycharm": {
     "name": "#%%\n"
    }
   }
  }
 ],
 "metadata": {
  "kernelspec": {
   "display_name": "Python 3",
   "language": "python",
   "name": "python3"
  },
  "language_info": {
   "codemirror_mode": {
    "name": "ipython",
    "version": 2
   },
   "file_extension": ".py",
   "mimetype": "text/x-python",
   "name": "python",
   "nbconvert_exporter": "python",
   "pygments_lexer": "ipython2",
   "version": "2.7.6"
  },
  "pycharm": {
   "stem_cell": {
    "cell_type": "raw",
    "source": [],
    "metadata": {
     "collapsed": false
    }
   }
  }
 },
 "nbformat": 4,
 "nbformat_minor": 0
}
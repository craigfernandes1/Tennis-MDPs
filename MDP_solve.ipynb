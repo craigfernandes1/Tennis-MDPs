{
 "cells": [
  {
   "cell_type": "markdown",
   "source": [
    "This notebook will solve the MDP by calling the policy iteration functions"
   ],
   "metadata": {
    "collapsed": false
   }
  },
  {
   "cell_type": "code",
   "execution_count": 1,
   "outputs": [],
   "source": [
    "import PlottingFunction as pf\n",
    "import DataManipulation as dm\n",
    "import Policy_iteration_functions as f\n",
    "import matplotlib.pyplot as plt\n",
    "from pathlib import Path\n",
    "import pandas as pd\n",
    "import numpy as np\n",
    "import math\n",
    "import time\n",
    "import winsound\n",
    "\n",
    "%matplotlib qt5"
   ],
   "metadata": {
    "collapsed": false,
    "pycharm": {
     "name": "#%% Import packages\n",
     "is_executing": false
    }
   }
  },
  {
   "cell_type": "code",
   "execution_count": 2,
   "outputs": [
    {
     "name": "stdout",
     "text": [
      "Optimal policy found in 4 iterations.\n",
      "1.1884860233333334 minutes \n"
     ],
     "output_type": "stream"
    }
   ],
   "source": [
    "# initialize random scattered policy\n",
    "init_policy = np.concatenate((np.random.randint(2, size=(1764, 1)), np.random.randint(2,8, size=(1764*2, 1)))) \n",
    "\n",
    "tic = time.perf_counter()\n",
    "V_full, opt_policy_full, counts_full, num_iter = f.solve_policy_iteration(init_policy, eps = 0,max_iterations = 50)\n",
    "toc = time.perf_counter()\n",
    "print((toc - tic) / 60, \"minutes \")\n",
    "winsound.Beep(2000,800)"
   ],
   "metadata": {
    "collapsed": false,
    "pycharm": {
     "name": "#%% set paramenters\n",
     "is_executing": false
    }
   }
  },
  {
   "cell_type": "code",
   "execution_count": 3,
   "outputs": [],
   "source": [
    "bucket = 8\n",
    "choice = 'rally'\n",
    "plt.figure()\n",
    "pf.createMDPheatmap(V_full, counts_full, opt_policy_full, bucket, choice,vmin=0, compressed=True, only_half=False, big_buckets=True, half_label=True)"
   ],
   "metadata": {
    "collapsed": false,
    "pycharm": {
     "name": "#%% Visualize V* and pi*\n",
     "is_executing": false
    }
   }
  },
  {
   "cell_type": "code",
   "execution_count": null,
   "outputs": [],
   "source": [
    "# arr = ['serve', 'servereturn', 'rally']\n",
    "# V_full_sum = 0\n",
    "# V_full_2_sum = 0\n",
    "# # V_full_3_sum = 0\n",
    "# \n",
    "# for type in arr:\n",
    "#     V_full_sum += V_full[type].sum()\n",
    "#     V_full_2_sum += V_full_2[type].sum()\n",
    "#     # V_full_3_sum += V_full_3[type].sum()\n",
    "# \n",
    "# print(V_full_sum, V_full_2_sum)\n",
    "\n",
    "# diff = np.abs(V_full['rally'] - V_full_2['rally'])\n",
    "# diff.mean()\n",
    "# heatmap of differences between two Value functions\n",
    "# V_diff = {'serve': V_full_2['serve'] - V_full['serve'], 'servereturn': V_full_2['servereturn'] - V_full['servereturn'], 'rally': V_full_2['rally'] - V_full['rally']}"
   ],
   "metadata": {
    "collapsed": false,
    "pycharm": {
     "name": "#%%\n",
     "is_executing": false
    }
   }
  },
  {
   "cell_type": "code",
   "execution_count": null,
   "outputs": [],
   "source": [
    "V_serve = V_full['serve']\n",
    "V_servereturn = V_full['servereturn']\n",
    "V_rally = V_full['rally']\n",
    "\n",
    "count_serve = counts_full['serve']\n",
    "count_servereturn = counts_full['servereturn']\n",
    "count_rally = counts_full['rally']\n",
    "\n",
    "V = np.concatenate((V_serve, V_servereturn, V_rally))\n",
    "count = np.concatenate((count_serve, count_servereturn, count_rally))\n",
    "\n",
    "idx = count > 25\n",
    "# np.count_nonzero(idx)\n",
    "V[idx].mean()"
   ],
   "metadata": {
    "collapsed": false,
    "pycharm": {
     "name": "#%% Get average for states with more than 10 observs\n",
     "is_executing": false
    }
   }
  },
  {
   "cell_type": "code",
   "execution_count": null,
   "outputs": [],
   "source": [
    "\n"
   ],
   "metadata": {
    "collapsed": false,
    "pycharm": {
     "name": "#%%\n"
    }
   }
  }
 ],
 "metadata": {
  "kernelspec": {
   "display_name": "Python 3",
   "language": "python",
   "name": "python3"
  },
  "language_info": {
   "codemirror_mode": {
    "name": "ipython",
    "version": 2
   },
   "file_extension": ".py",
   "mimetype": "text/x-python",
   "name": "python",
   "nbconvert_exporter": "python",
   "pygments_lexer": "ipython2",
   "version": "2.7.6"
  },
  "pycharm": {
   "stem_cell": {
    "cell_type": "raw",
    "source": [],
    "metadata": {
     "collapsed": false
    }
   }
  }
 },
 "nbformat": 4,
 "nbformat_minor": 0
}
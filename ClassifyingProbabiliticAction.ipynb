{
 "cells": [
  {
   "cell_type": "markdown",
   "metadata": {
    "collapsed": true,
    "pycharm": {
     "name": "#%% md\n"
    }
   },
   "source": [
    "## This Notebook will create a GMM to classify shots into one of the 6 actions"
   ]
  },
  {
   "cell_type": "code",
   "execution_count": 1,
   "outputs": [],
   "source": [
    "import PlottingFunction as pf\n",
    "import DataManipulation as dm\n",
    "import matplotlib.pyplot as plt\n",
    "import Policy_iteration_functions as f\n",
    "from pathlib import Path\n",
    "import pandas as pd\n",
    "import numpy as np\n",
    "from scipy.stats import multivariate_normal\n",
    "import winsound\n",
    "\n",
    "%matplotlib qt5"
   ],
   "metadata": {
    "collapsed": false,
    "pycharm": {
     "name": "#%% Import packages\n",
     "is_executing": false
    }
   }
  },
  {
   "cell_type": "code",
   "execution_count": 2,
   "outputs": [],
   "source": [
    "df  = pd.read_pickle(Path.cwd() / 'pickle' / 'TP' / 'df_double_prime.plk')\n",
    "df = df[df.second_error != 'none']\n",
    "df = df.reset_index(drop=True)\n",
    "df = dm.add_landing_region_to_df(df, more_actions = True)"
   ],
   "metadata": {
    "collapsed": false,
    "pycharm": {
     "name": "#%% Load the data\n",
     "is_executing": false
    }
   }
  },
  {
   "cell_type": "code",
   "execution_count": 3,
   "outputs": [],
   "source": [
    "proportions, weights_rally, weights_deuce_serve, weights_ad_serve = dm.calculate_weights(df)"
   ],
   "metadata": {
    "collapsed": false,
    "pycharm": {
     "name": "#%% Get the weights of each action\n",
     "is_executing": false
    }
   }
  },
  {
   "cell_type": "code",
   "execution_count": 5,
   "outputs": [],
   "source": [
    "region_labels = proportions.index.values\n",
    "df_region_dict = {}\n",
    "distribution_region_dict = {}\n",
    "\n",
    "eps = 0.00000000001\n",
    "\n",
    "for region_label in region_labels:\n",
    "    # slice for particular region/action\n",
    "    df_region = df[df.region == region_label]\n",
    "    # check if theres more than 20,000, if so, sample just 20,000\n",
    "    if df_region.shape[0] > 20000:\n",
    "        df_region = df_region.sample(20000, random_state=0)\n",
    "    \n",
    "    # save the subset of shots\n",
    "    df_region_dict[region_label] = df_region\n",
    "    \n",
    "    # fit and save the gaussian distribution\n",
    "    X = df_region[['x02', 'y02']]\n",
    "    X = X.to_numpy()\n",
    "    \n",
    "    mean = np.mean(X, axis=0)\n",
    "    cov = np.cov(X, rowvar=0)\n",
    "    # Add epsilon error\n",
    "    cov *= eps\n",
    "    \n",
    "    distribution = multivariate_normal(mean=mean, cov=cov)\n",
    "    distribution_region_dict[region_label] = distribution\n",
    "\n",
    "# del df, df_region, X"
   ],
   "metadata": {
    "collapsed": false,
    "pycharm": {
     "name": "#%% Split data into each action and create df_list and create the distribution dictionary\n",
     "is_executing": false
    }
   }
  },
  {
   "cell_type": "code",
   "execution_count": 6,
   "outputs": [],
   "source": [
    "if eps != 1:\n",
    "    df_eps = pd.DataFrame(columns=['x02','y02'])\n",
    "\n",
    "    for region_label in region_labels[0:25]:\n",
    "        n = proportions[region_label]\n",
    "        sim_shots = (distribution_region_dict[region_label].rvs(size=n))\n",
    "        df_eps = df_eps.append(pd.DataFrame(sim_shots, columns=['x02','y02']))\n",
    "\n",
    "    df_eps = dm.determine_weights_for_epsilon_distributions(df_eps, more_actions = True)\n",
    "    proportions_eps, weights_rally, _ , _ = dm.calculate_weights(df_eps)"
   ],
   "metadata": {
    "collapsed": false,
    "pycharm": {
     "name": "#%% if theres an epsilon, resimulate the data to get new weights\n",
     "is_executing": false
    }
   }
  },
  {
   "cell_type": "code",
   "execution_count": 14,
   "outputs": [],
   "source": [
    "# df = dm.actionProbabilityVector(df,distribution_region_dict, region_labels, weights_rally, weights_deuce_serve, weights_ad_serve)\n",
    "# count = 0\n",
    "# probableAction = []\n",
    "\n",
    "# for index, shot in df.iterrows(): # loop through the rows for the particular state\n",
    "#     if(shot['OBDrop':].sum() == 0):\n",
    "        # probableAction.append(np.random.choice(['OBDrop','adOBBase', 'adOBDeepSide','adOBShortSide','deuceOBBase', 'deuceOBDeepSide','deuceOBShortSide'], p =[1/7,1/7,1/7,1/7,1/7,1/7,1/7]))\n",
    "        # count = count + 1\n",
    "    # else:\n",
    "    #     probableAction.append(np.random.choice(region_labels, p = shot['OBDrop':]))\n",
    "\n",
    "# df['probableAction'] = probableAction\n",
    "\n",
    "# # Save the df with probable actions\n",
    "# df.to_pickle('df_eps0_action.plk')\n",
    "# # Read the probable actions df\n",
    "# df  = pd.read_pickle('df_eps_action.plk')"
   ],
   "metadata": {
    "collapsed": false,
    "pycharm": {
     "name": "#%% Add the probability vector and pick one action\n",
     "is_executing": false
    }
   }
  },
  {
   "cell_type": "code",
   "execution_count": 5,
   "outputs": [
    {
     "traceback": [
      "\u001b[1;31m---------------------------------------------------------------------------\u001b[0m",
      "\u001b[1;31mTypeError\u001b[0m                                 Traceback (most recent call last)",
      "\u001b[1;32m<ipython-input-5-fde9e15d4511>\u001b[0m in \u001b[0;36m<module>\u001b[1;34m\u001b[0m\n\u001b[0;32m      1\u001b[0m \u001b[0mdf\u001b[0m  \u001b[1;33m=\u001b[0m \u001b[0mpd\u001b[0m\u001b[1;33m.\u001b[0m\u001b[0mread_pickle\u001b[0m\u001b[1;33m(\u001b[0m\u001b[1;34m'df_eps0.01_action.plk'\u001b[0m\u001b[1;33m)\u001b[0m\u001b[1;33m\u001b[0m\u001b[1;33m\u001b[0m\u001b[0m\n\u001b[0;32m      2\u001b[0m \u001b[1;33m\u001b[0m\u001b[0m\n\u001b[1;32m----> 3\u001b[1;33m \u001b[0myo\u001b[0m \u001b[1;33m=\u001b[0m \u001b[0mdf\u001b[0m\u001b[1;33m.\u001b[0m\u001b[0miloc\u001b[0m\u001b[1;33m[\u001b[0m\u001b[1;33m:\u001b[0m \u001b[1;33m,\u001b[0m \u001b[1;34m'OBDrop'\u001b[0m\u001b[1;33m:\u001b[0m\u001b[1;34m'serve_deuce_middle'\u001b[0m\u001b[1;33m]\u001b[0m\u001b[1;33m.\u001b[0m\u001b[0mcopy\u001b[0m\u001b[1;33m(\u001b[0m\u001b[1;33m)\u001b[0m\u001b[1;33m\u001b[0m\u001b[1;33m\u001b[0m\u001b[0m\n\u001b[0m\u001b[0;32m      4\u001b[0m \u001b[1;32mdel\u001b[0m \u001b[0mdf\u001b[0m\u001b[1;33m\u001b[0m\u001b[1;33m\u001b[0m\u001b[0m\n",
      "\u001b[1;32mc:\\users\\craig\\pycharmprojects\\tennisresearch - python\\venv\\lib\\site-packages\\pandas\\core\\indexing.py\u001b[0m in \u001b[0;36m__getitem__\u001b[1;34m(self, key)\u001b[0m\n\u001b[0;32m   1759\u001b[0m                 \u001b[1;32mexcept\u001b[0m \u001b[1;33m(\u001b[0m\u001b[0mKeyError\u001b[0m\u001b[1;33m,\u001b[0m \u001b[0mIndexError\u001b[0m\u001b[1;33m,\u001b[0m \u001b[0mAttributeError\u001b[0m\u001b[1;33m)\u001b[0m\u001b[1;33m:\u001b[0m\u001b[1;33m\u001b[0m\u001b[1;33m\u001b[0m\u001b[0m\n\u001b[0;32m   1760\u001b[0m                     \u001b[1;32mpass\u001b[0m\u001b[1;33m\u001b[0m\u001b[1;33m\u001b[0m\u001b[0m\n\u001b[1;32m-> 1761\u001b[1;33m             \u001b[1;32mreturn\u001b[0m \u001b[0mself\u001b[0m\u001b[1;33m.\u001b[0m\u001b[0m_getitem_tuple\u001b[0m\u001b[1;33m(\u001b[0m\u001b[0mkey\u001b[0m\u001b[1;33m)\u001b[0m\u001b[1;33m\u001b[0m\u001b[1;33m\u001b[0m\u001b[0m\n\u001b[0m\u001b[0;32m   1762\u001b[0m         \u001b[1;32melse\u001b[0m\u001b[1;33m:\u001b[0m\u001b[1;33m\u001b[0m\u001b[1;33m\u001b[0m\u001b[0m\n\u001b[0;32m   1763\u001b[0m             \u001b[1;31m# we by definition only have the 0th axis\u001b[0m\u001b[1;33m\u001b[0m\u001b[1;33m\u001b[0m\u001b[1;33m\u001b[0m\u001b[0m\n",
      "\u001b[1;32mc:\\users\\craig\\pycharmprojects\\tennisresearch - python\\venv\\lib\\site-packages\\pandas\\core\\indexing.py\u001b[0m in \u001b[0;36m_getitem_tuple\u001b[1;34m(self, tup)\u001b[0m\n\u001b[0;32m   2077\u001b[0m                 \u001b[1;32mcontinue\u001b[0m\u001b[1;33m\u001b[0m\u001b[1;33m\u001b[0m\u001b[0m\n\u001b[0;32m   2078\u001b[0m \u001b[1;33m\u001b[0m\u001b[0m\n\u001b[1;32m-> 2079\u001b[1;33m             \u001b[0mretval\u001b[0m \u001b[1;33m=\u001b[0m \u001b[0mgetattr\u001b[0m\u001b[1;33m(\u001b[0m\u001b[0mretval\u001b[0m\u001b[1;33m,\u001b[0m \u001b[0mself\u001b[0m\u001b[1;33m.\u001b[0m\u001b[0mname\u001b[0m\u001b[1;33m)\u001b[0m\u001b[1;33m.\u001b[0m\u001b[0m_getitem_axis\u001b[0m\u001b[1;33m(\u001b[0m\u001b[0mkey\u001b[0m\u001b[1;33m,\u001b[0m \u001b[0maxis\u001b[0m\u001b[1;33m=\u001b[0m\u001b[0maxis\u001b[0m\u001b[1;33m)\u001b[0m\u001b[1;33m\u001b[0m\u001b[1;33m\u001b[0m\u001b[0m\n\u001b[0m\u001b[0;32m   2080\u001b[0m \u001b[1;33m\u001b[0m\u001b[0m\n\u001b[0;32m   2081\u001b[0m             \u001b[1;31m# if the dim was reduced, then pass a lower-dim the next time\u001b[0m\u001b[1;33m\u001b[0m\u001b[1;33m\u001b[0m\u001b[1;33m\u001b[0m\u001b[0m\n",
      "\u001b[1;32mc:\\users\\craig\\pycharmprojects\\tennisresearch - python\\venv\\lib\\site-packages\\pandas\\core\\indexing.py\u001b[0m in \u001b[0;36m_getitem_axis\u001b[1;34m(self, key, axis)\u001b[0m\n\u001b[0;32m   2115\u001b[0m     \u001b[1;32mdef\u001b[0m \u001b[0m_getitem_axis\u001b[0m\u001b[1;33m(\u001b[0m\u001b[0mself\u001b[0m\u001b[1;33m,\u001b[0m \u001b[0mkey\u001b[0m\u001b[1;33m,\u001b[0m \u001b[0maxis\u001b[0m\u001b[1;33m:\u001b[0m \u001b[0mint\u001b[0m\u001b[1;33m)\u001b[0m\u001b[1;33m:\u001b[0m\u001b[1;33m\u001b[0m\u001b[1;33m\u001b[0m\u001b[0m\n\u001b[0;32m   2116\u001b[0m         \u001b[1;32mif\u001b[0m \u001b[0misinstance\u001b[0m\u001b[1;33m(\u001b[0m\u001b[0mkey\u001b[0m\u001b[1;33m,\u001b[0m \u001b[0mslice\u001b[0m\u001b[1;33m)\u001b[0m\u001b[1;33m:\u001b[0m\u001b[1;33m\u001b[0m\u001b[1;33m\u001b[0m\u001b[0m\n\u001b[1;32m-> 2117\u001b[1;33m             \u001b[1;32mreturn\u001b[0m \u001b[0mself\u001b[0m\u001b[1;33m.\u001b[0m\u001b[0m_get_slice_axis\u001b[0m\u001b[1;33m(\u001b[0m\u001b[0mkey\u001b[0m\u001b[1;33m,\u001b[0m \u001b[0maxis\u001b[0m\u001b[1;33m=\u001b[0m\u001b[0maxis\u001b[0m\u001b[1;33m)\u001b[0m\u001b[1;33m\u001b[0m\u001b[1;33m\u001b[0m\u001b[0m\n\u001b[0m\u001b[0;32m   2118\u001b[0m \u001b[1;33m\u001b[0m\u001b[0m\n\u001b[0;32m   2119\u001b[0m         \u001b[1;32mif\u001b[0m \u001b[0misinstance\u001b[0m\u001b[1;33m(\u001b[0m\u001b[0mkey\u001b[0m\u001b[1;33m,\u001b[0m \u001b[0mlist\u001b[0m\u001b[1;33m)\u001b[0m\u001b[1;33m:\u001b[0m\u001b[1;33m\u001b[0m\u001b[1;33m\u001b[0m\u001b[0m\n",
      "\u001b[1;32mc:\\users\\craig\\pycharmprojects\\tennisresearch - python\\venv\\lib\\site-packages\\pandas\\core\\indexing.py\u001b[0m in \u001b[0;36m_get_slice_axis\u001b[1;34m(self, slice_obj, axis)\u001b[0m\n\u001b[0;32m   1746\u001b[0m             \u001b[1;32mreturn\u001b[0m \u001b[0mobj\u001b[0m\u001b[1;33m.\u001b[0m\u001b[0mcopy\u001b[0m\u001b[1;33m(\u001b[0m\u001b[0mdeep\u001b[0m\u001b[1;33m=\u001b[0m\u001b[1;32mFalse\u001b[0m\u001b[1;33m)\u001b[0m\u001b[1;33m\u001b[0m\u001b[1;33m\u001b[0m\u001b[0m\n\u001b[0;32m   1747\u001b[0m \u001b[1;33m\u001b[0m\u001b[0m\n\u001b[1;32m-> 1748\u001b[1;33m         \u001b[0mindexer\u001b[0m \u001b[1;33m=\u001b[0m \u001b[0mself\u001b[0m\u001b[1;33m.\u001b[0m\u001b[0m_convert_slice_indexer\u001b[0m\u001b[1;33m(\u001b[0m\u001b[0mslice_obj\u001b[0m\u001b[1;33m,\u001b[0m \u001b[0maxis\u001b[0m\u001b[1;33m)\u001b[0m\u001b[1;33m\u001b[0m\u001b[1;33m\u001b[0m\u001b[0m\n\u001b[0m\u001b[0;32m   1749\u001b[0m         \u001b[1;32mreturn\u001b[0m \u001b[0mself\u001b[0m\u001b[1;33m.\u001b[0m\u001b[0m_slice\u001b[0m\u001b[1;33m(\u001b[0m\u001b[0mindexer\u001b[0m\u001b[1;33m,\u001b[0m \u001b[0maxis\u001b[0m\u001b[1;33m=\u001b[0m\u001b[0maxis\u001b[0m\u001b[1;33m,\u001b[0m \u001b[0mkind\u001b[0m\u001b[1;33m=\u001b[0m\u001b[1;34m\"iloc\"\u001b[0m\u001b[1;33m)\u001b[0m\u001b[1;33m\u001b[0m\u001b[1;33m\u001b[0m\u001b[0m\n\u001b[0;32m   1750\u001b[0m \u001b[1;33m\u001b[0m\u001b[0m\n",
      "\u001b[1;32mc:\\users\\craig\\pycharmprojects\\tennisresearch - python\\venv\\lib\\site-packages\\pandas\\core\\indexing.py\u001b[0m in \u001b[0;36m_convert_slice_indexer\u001b[1;34m(self, key, axis)\u001b[0m\n\u001b[0;32m    743\u001b[0m         \u001b[1;31m# if we are accessing via lowered dim, use the last dim\u001b[0m\u001b[1;33m\u001b[0m\u001b[1;33m\u001b[0m\u001b[1;33m\u001b[0m\u001b[0m\n\u001b[0;32m    744\u001b[0m         \u001b[0max\u001b[0m \u001b[1;33m=\u001b[0m \u001b[0mself\u001b[0m\u001b[1;33m.\u001b[0m\u001b[0mobj\u001b[0m\u001b[1;33m.\u001b[0m\u001b[0m_get_axis\u001b[0m\u001b[1;33m(\u001b[0m\u001b[0mmin\u001b[0m\u001b[1;33m(\u001b[0m\u001b[0maxis\u001b[0m\u001b[1;33m,\u001b[0m \u001b[0mself\u001b[0m\u001b[1;33m.\u001b[0m\u001b[0mndim\u001b[0m \u001b[1;33m-\u001b[0m \u001b[1;36m1\u001b[0m\u001b[1;33m)\u001b[0m\u001b[1;33m)\u001b[0m\u001b[1;33m\u001b[0m\u001b[1;33m\u001b[0m\u001b[0m\n\u001b[1;32m--> 745\u001b[1;33m         \u001b[1;32mreturn\u001b[0m \u001b[0max\u001b[0m\u001b[1;33m.\u001b[0m\u001b[0m_convert_slice_indexer\u001b[0m\u001b[1;33m(\u001b[0m\u001b[0mkey\u001b[0m\u001b[1;33m,\u001b[0m \u001b[0mkind\u001b[0m\u001b[1;33m=\u001b[0m\u001b[0mself\u001b[0m\u001b[1;33m.\u001b[0m\u001b[0mname\u001b[0m\u001b[1;33m)\u001b[0m\u001b[1;33m\u001b[0m\u001b[1;33m\u001b[0m\u001b[0m\n\u001b[0m\u001b[0;32m    746\u001b[0m \u001b[1;33m\u001b[0m\u001b[0m\n\u001b[0;32m    747\u001b[0m     \u001b[1;32mdef\u001b[0m \u001b[0m_has_valid_setitem_indexer\u001b[0m\u001b[1;33m(\u001b[0m\u001b[0mself\u001b[0m\u001b[1;33m,\u001b[0m \u001b[0mindexer\u001b[0m\u001b[1;33m)\u001b[0m \u001b[1;33m->\u001b[0m \u001b[0mbool\u001b[0m\u001b[1;33m:\u001b[0m\u001b[1;33m\u001b[0m\u001b[1;33m\u001b[0m\u001b[0m\n",
      "\u001b[1;32mc:\\users\\craig\\pycharmprojects\\tennisresearch - python\\venv\\lib\\site-packages\\pandas\\core\\indexes\\base.py\u001b[0m in \u001b[0;36m_convert_slice_indexer\u001b[1;34m(self, key, kind)\u001b[0m\n\u001b[0;32m   2911\u001b[0m         \u001b[1;32mif\u001b[0m \u001b[0mkind\u001b[0m \u001b[1;33m==\u001b[0m \u001b[1;34m\"iloc\"\u001b[0m\u001b[1;33m:\u001b[0m\u001b[1;33m\u001b[0m\u001b[1;33m\u001b[0m\u001b[0m\n\u001b[0;32m   2912\u001b[0m             return slice(\n\u001b[1;32m-> 2913\u001b[1;33m                 \u001b[0mself\u001b[0m\u001b[1;33m.\u001b[0m\u001b[0m_validate_indexer\u001b[0m\u001b[1;33m(\u001b[0m\u001b[1;34m\"slice\"\u001b[0m\u001b[1;33m,\u001b[0m \u001b[0mkey\u001b[0m\u001b[1;33m.\u001b[0m\u001b[0mstart\u001b[0m\u001b[1;33m,\u001b[0m \u001b[0mkind\u001b[0m\u001b[1;33m)\u001b[0m\u001b[1;33m,\u001b[0m\u001b[1;33m\u001b[0m\u001b[1;33m\u001b[0m\u001b[0m\n\u001b[0m\u001b[0;32m   2914\u001b[0m                 \u001b[0mself\u001b[0m\u001b[1;33m.\u001b[0m\u001b[0m_validate_indexer\u001b[0m\u001b[1;33m(\u001b[0m\u001b[1;34m\"slice\"\u001b[0m\u001b[1;33m,\u001b[0m \u001b[0mkey\u001b[0m\u001b[1;33m.\u001b[0m\u001b[0mstop\u001b[0m\u001b[1;33m,\u001b[0m \u001b[0mkind\u001b[0m\u001b[1;33m)\u001b[0m\u001b[1;33m,\u001b[0m\u001b[1;33m\u001b[0m\u001b[1;33m\u001b[0m\u001b[0m\n\u001b[0;32m   2915\u001b[0m                 \u001b[0mself\u001b[0m\u001b[1;33m.\u001b[0m\u001b[0m_validate_indexer\u001b[0m\u001b[1;33m(\u001b[0m\u001b[1;34m\"slice\"\u001b[0m\u001b[1;33m,\u001b[0m \u001b[0mkey\u001b[0m\u001b[1;33m.\u001b[0m\u001b[0mstep\u001b[0m\u001b[1;33m,\u001b[0m \u001b[0mkind\u001b[0m\u001b[1;33m)\u001b[0m\u001b[1;33m,\u001b[0m\u001b[1;33m\u001b[0m\u001b[1;33m\u001b[0m\u001b[0m\n",
      "\u001b[1;32mc:\\users\\craig\\pycharmprojects\\tennisresearch - python\\venv\\lib\\site-packages\\pandas\\core\\indexes\\base.py\u001b[0m in \u001b[0;36m_validate_indexer\u001b[1;34m(self, form, key, kind)\u001b[0m\n\u001b[0;32m   4748\u001b[0m             \u001b[1;32mpass\u001b[0m\u001b[1;33m\u001b[0m\u001b[1;33m\u001b[0m\u001b[0m\n\u001b[0;32m   4749\u001b[0m         \u001b[1;32melif\u001b[0m \u001b[0mkind\u001b[0m \u001b[1;32min\u001b[0m \u001b[1;33m[\u001b[0m\u001b[1;34m\"iloc\"\u001b[0m\u001b[1;33m,\u001b[0m \u001b[1;34m\"getitem\"\u001b[0m\u001b[1;33m]\u001b[0m\u001b[1;33m:\u001b[0m\u001b[1;33m\u001b[0m\u001b[1;33m\u001b[0m\u001b[0m\n\u001b[1;32m-> 4750\u001b[1;33m             \u001b[0mself\u001b[0m\u001b[1;33m.\u001b[0m\u001b[0m_invalid_indexer\u001b[0m\u001b[1;33m(\u001b[0m\u001b[0mform\u001b[0m\u001b[1;33m,\u001b[0m \u001b[0mkey\u001b[0m\u001b[1;33m)\u001b[0m\u001b[1;33m\u001b[0m\u001b[1;33m\u001b[0m\u001b[0m\n\u001b[0m\u001b[0;32m   4751\u001b[0m         \u001b[1;32mreturn\u001b[0m \u001b[0mkey\u001b[0m\u001b[1;33m\u001b[0m\u001b[1;33m\u001b[0m\u001b[0m\n\u001b[0;32m   4752\u001b[0m \u001b[1;33m\u001b[0m\u001b[0m\n",
      "\u001b[1;32mc:\\users\\craig\\pycharmprojects\\tennisresearch - python\\venv\\lib\\site-packages\\pandas\\core\\indexes\\base.py\u001b[0m in \u001b[0;36m_invalid_indexer\u001b[1;34m(self, form, key)\u001b[0m\n\u001b[0;32m   3075\u001b[0m         \"\"\"\n\u001b[0;32m   3076\u001b[0m         raise TypeError(\n\u001b[1;32m-> 3077\u001b[1;33m             \u001b[1;34mf\"cannot do {form} indexing on {type(self)} with these \"\u001b[0m\u001b[1;33m\u001b[0m\u001b[1;33m\u001b[0m\u001b[0m\n\u001b[0m\u001b[0;32m   3078\u001b[0m             \u001b[1;34mf\"indexers [{key}] of {type(key)}\"\u001b[0m\u001b[1;33m\u001b[0m\u001b[1;33m\u001b[0m\u001b[0m\n\u001b[0;32m   3079\u001b[0m         )\n",
      "\u001b[1;31mTypeError\u001b[0m: cannot do slice indexing on <class 'pandas.core.indexes.base.Index'> with these indexers [OBDrop] of <class 'str'>"
     ],
     "ename": "TypeError",
     "evalue": "cannot do slice indexing on <class 'pandas.core.indexes.base.Index'> with these indexers [OBDrop] of <class 'str'>",
     "output_type": "error"
    }
   ],
   "source": [
    "df  = pd.read_pickle('df_eps0.01_action.plk')\n",
    "\n",
    "yo = df.iloc[:, 83:112].copy()\n",
    "del df"
   ],
   "metadata": {
    "collapsed": false,
    "pycharm": {
     "name": "#%%\n",
     "is_executing": false
    }
   }
  },
  {
   "cell_type": "code",
   "execution_count": 9,
   "outputs": [
    {
     "data": {
      "text/plain": "119601"
     },
     "metadata": {},
     "output_type": "execute_result",
     "execution_count": 9
    }
   ],
   "source": [
    "# df  = pd.read_pickle('df_eps0.5_action.plk')\n",
    "df.Error.sum()\n",
    "# df = df.sample(100)\n",
    "\n",
    "# proportions_sam = df.groupby('probableAction').count().iloc[:, 0]\n",
    "# total_rally_sam = proportions_sam['OBDrop':'deuceShortSide'].sum()\n",
    "# weights_rally_sam = proportions_sam['OBDrop':'deuceShortSide'] / total_rally_sam\n",
    "# # \n",
    "# # df = df.sample(100)\n",
    "# df.probableAction.str.count(\"OB\").sum()\n",
    "# # \n",
    "# totOB = 0\n",
    "# for name, value in enumerate(weights_rally_sam):\n",
    "#     if 'OB' in region_labels[name]:\n",
    "#         totOB += value       \n",
    "# totOB"
   ],
   "metadata": {
    "collapsed": false,
    "pycharm": {
     "name": "#%% Add code to resample any OB shots\n",
     "is_executing": false
    }
   }
  },
  {
   "cell_type": "code",
   "execution_count": 10,
   "outputs": [
    {
     "data": {
      "text/plain": "136608"
     },
     "metadata": {},
     "output_type": "execute_result",
     "execution_count": 10
    }
   ],
   "source": [
    "\n",
    "for index, shot in df.iterrows(): # loop through the rows for the particular state\n",
    "    if 'OB' in shot['probableAction']:\n",
    "        df.at[index, 'Error'] = True\n",
    "        \n",
    "df.Error.sum()"
   ],
   "metadata": {
    "collapsed": false,
    "pycharm": {
     "name": "#%%%\n",
     "is_executing": false
    }
   }
  },
  {
   "cell_type": "code",
   "execution_count": 9,
   "outputs": [],
   "source": [
    "del df\n"
   ],
   "metadata": {
    "collapsed": false,
    "pycharm": {
     "name": "#%%\n",
     "is_executing": false
    }
   }
  },
  {
   "cell_type": "code",
   "execution_count": null,
   "outputs": [],
   "source": [
    "# df_compare = df.groupby([\"region\", \"probableAction\"]).size().reset_index(name=\"Time\")\n",
    "# df_compare = df_compare[df_compare.region != df_compare.probableAction]\n",
    "# percent_diff = df_compare['Time'].sum()/871869*100\n",
    "# winsound.Beep(2000,800)\n",
    "# # del df\n",
    "# percent_diff"
   ],
   "metadata": {
    "collapsed": false,
    "pycharm": {
     "name": "#%% compare the labels to the hard coded labels\n",
     "is_executing": false
    }
   }
  },
  {
   "cell_type": "code",
   "execution_count": 11,
   "outputs": [],
   "source": [
    "shot = 192549\n",
    "df_sample = df.loc[shot,:]\n",
    "plt.figure()\n",
    "pf.plot1D(df_sample, compressed=True, only_half=False, big_buckets=True)\n",
    "pf.createCourt(plt.gca(), compressed=True, only_half=False, big_buckets=True)"
   ],
   "metadata": {
    "collapsed": false,
    "pycharm": {
     "name": "#%%\n",
     "is_executing": false
    }
   }
  },
  {
   "cell_type": "code",
   "execution_count": null,
   "outputs": [],
   "source": [
    "x, y = np.mgrid[0:16:0.1, -7:7:0.1]\n",
    "pos = np.dstack((x, y))\n",
    "z = 0\n",
    "\n",
    "for label, distribution in distribution_region_dict.items():\n",
    "    if ('deuceBase' in label) or (\"deuceOBBase\" in label):\n",
    "        z += distribution.pdf(pos)\n",
    "        \n",
    "fig = plt.figure()\n",
    "plt.subplot(1,1,1)\n",
    "plt.contourf(x, y, z,zorder=2)\n",
    "pf.createCourt(plt.gca(), compressed=True, only_half=False, big_buckets=True)\n",
    "pf.plot1D(df_sample, compressed=True, only_half=False, big_buckets=True)\n"
   ],
   "metadata": {
    "collapsed": false,
    "pycharm": {
     "name": "#%%\n",
     "is_executing": false
    }
   }
  },
  {
   "cell_type": "code",
   "execution_count": null,
   "outputs": [],
   "source": [
    "shot = 245642\n",
    "# shot = 255937\n",
    "# shot = 272631\n",
    "\n",
    "\n",
    "x, y = np.mgrid[0:16:0.1, -7:7:0.1]\n",
    "pos = np.dstack((x, y))\n",
    "zDeep = 0\n",
    "\n",
    "for label, distribution in distribution_region_dict.items():\n",
    "    if 'serve' not in label:\n",
    "        if ('Deep' in label) or (\"Base\" in label):\n",
    "            zDeep += distribution.pdf(pos)\n",
    "    \n",
    "fig = plt.figure()\n",
    "plt.subplot(111)\n",
    "plt.contourf(x, y, zDeep,zorder=2)\n",
    "pf.createCourt(plt.gca(), compressed=True, only_half=False, big_buckets=True)\n",
    "\n",
    "df_sample = df.loc[shot,:]\n",
    "pf.plot1D(df_sample,compressed=True, only_half=False,big_buckets=True,)\n",
    "\n",
    "# del df"
   ],
   "metadata": {
    "collapsed": false,
    "pycharm": {
     "name": "#%% Pick just one shots and plot and find probs\n",
     "is_executing": false
    }
   }
  },
  {
   "cell_type": "markdown",
   "source": [
    "### Plotting all the KDE's and Distributions"
   ],
   "metadata": {
    "collapsed": false,
    "pycharm": {
     "name": "#%% md\n"
    }
   }
  },
  {
   "cell_type": "code",
   "execution_count": null,
   "outputs": [],
   "source": [
    "x, y = np.mgrid[0:16:0.1, -7:7:0.1]\n",
    "pos = np.dstack((x, y))\n",
    "zShort = 0; zDeep = 0\n",
    "\n",
    "for label, distribution in distribution_region_dict.items():\n",
    "    if 'serve' not in label:\n",
    "        if \"OB\" not in label:\n",
    "            if ('Deep' in label) or (\"Base\" in label):\n",
    "                zDeep += distribution.pdf(pos)\n",
    "            elif 'Corner' not in label:\n",
    "                zShort += distribution.pdf(pos)\n",
    "\n",
    "zDeep += zShort\n",
    "\n",
    "fig = plt.figure()\n",
    "plt.subplot(2,1,1)\n",
    "plt.contourf(x, y, zDeep,zorder=2)\n",
    "pf.createCourt(plt.gca(), compressed=True, only_half=False, big_buckets=True)\n",
    "plt.title('eps = 1')\n",
    "plt.subplot(2, 1, 2)\n",
    "plt.contourf(x, y, zDeep,zorder=2)\n",
    "pf.createCourt(plt.gca(), compressed=True, only_half=False, big_buckets=True)\n",
    "plt.title('eps = 3')\n",
    "# plt.subplot(3, 1, 3)\n",
    "# plt.contourf(x, y, zDeep,zorder=2)\n",
    "# pf.createCourt(plt.gca(), compressed=True, only_half=False, big_buckets=True)\n",
    "# plt.title('eps = 5')\n",
    "# plt.subplot(2, 2, 4)\n",
    "# plt.contourf(x, y, zDeep,zorder=2)\n",
    "# pf.createCourt(plt.gca(), compressed=True, only_half=False, big_buckets=True)\n",
    "# plt.title('eps = 7')"
   ],
   "metadata": {
    "collapsed": false,
    "pycharm": {
     "name": "#%% Plot all of the fitted gaussian distributions\n",
     "is_executing": false
    }
   }
  },
  {
   "cell_type": "code",
   "execution_count": null,
   "outputs": [],
   "source": [
    "# cmaps = [\"Blues\", \"Reds\", \"Oranges\", \"Greens\", \"Purples\", \"Greys\", \"Blues\", \"Reds\", \"Oranges\", \"Greens\", \"Purples\", \"Greys\"]\n",
    "# \n",
    "# plt.figure()\n",
    "# i = 0\n",
    "# for label, df_region in df_region_dict.items():    \n",
    "#     if 'serve' not in label:\n",
    "#         if ('Deep' in label) or (\"Base\" in label):\n",
    "#             X = df_region[['x02', 'y02']]\n",
    "#             X = X.to_numpy()\n",
    "#             # pf.createKde(X[:,0],X[:,1],compressed=True, only_half=False,big_buckets=True, n_levels=15, cmap=cmaps[i])\n",
    "#             # i = i+1\n",
    "#         elif 'Corner' not in label:\n",
    "#             if \"OBDrop\" not in label:\n",
    "#                 X = df_region[['x02', 'y02']]\n",
    "#                 X = X.to_numpy()\n",
    "#                 pf.createKde(X[:,0],X[:,1],compressed=True, only_half=False,big_buckets=True, n_levels=15, cmap=cmaps[i])\n",
    "#                 i = i+1\n",
    "\n",
    "\n"
   ],
   "metadata": {
    "collapsed": false,
    "pycharm": {
     "name": "#%% Plot KDEs of either Deep or Short Shots\n"
    }
   }
  }
 ],
 "metadata": {
  "kernelspec": {
   "display_name": "Python 3",
   "language": "python",
   "name": "python3"
  },
  "language_info": {
   "codemirror_mode": {
    "name": "ipython",
    "version": 2
   },
   "file_extension": ".py",
   "mimetype": "text/x-python",
   "name": "python",
   "nbconvert_exporter": "python",
   "pygments_lexer": "ipython2",
   "version": "2.7.6"
  },
  "pycharm": {
   "stem_cell": {
    "cell_type": "raw",
    "source": [],
    "metadata": {
     "collapsed": false
    }
   }
  }
 },
 "nbformat": 4,
 "nbformat_minor": 0
}
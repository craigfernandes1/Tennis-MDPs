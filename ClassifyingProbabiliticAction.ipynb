{
 "cells": [
  {
   "cell_type": "markdown",
   "metadata": {
    "collapsed": true,
    "pycharm": {
     "name": "#%% md\n"
    }
   },
   "source": [
    "## This Notebook will create a GMM to classify shots into one of the 6 actions"
   ]
  },
  {
   "cell_type": "code",
   "execution_count": 1,
   "outputs": [],
   "source": [
    "import PlottingFunction as pf\n",
    "import DataManipulation as dm\n",
    "import matplotlib.pyplot as plt\n",
    "import Policy_iteration_functions as f\n",
    "from pathlib import Path\n",
    "import pandas as pd\n",
    "import numpy as np\n",
    "from scipy.stats import multivariate_normal\n",
    "import winsound\n",
    "\n",
    "%matplotlib qt5"
   ],
   "metadata": {
    "collapsed": false,
    "pycharm": {
     "name": "#%% Import packages\n",
     "is_executing": false
    }
   }
  },
  {
   "cell_type": "code",
   "execution_count": 5,
   "outputs": [],
   "source": [
    "df  = pd.read_pickle(Path.cwd() / 'pickle' / 'TP' / 'df_double_prime.plk')\n",
    "df = df[df.second_error != 'none']\n",
    "df = df.reset_index(drop=True)\n",
    "df = dm.add_landing_region_to_df(df, more_actions = True)"
   ],
   "metadata": {
    "collapsed": false,
    "pycharm": {
     "name": "#%% Load the data\n",
     "is_executing": false
    }
   }
  },
  {
   "cell_type": "code",
   "execution_count": 6,
   "outputs": [],
   "source": [
    "proportions = df.groupby('region').count().iloc[:,0]\n",
    "total_rally = proportions['OBDrop':'deuceShortSide'].sum()\n",
    "weights_rally = proportions['OBDrop':'deuceShortSide']/total_rally\n",
    "total_deuce_serve = proportions['serve_deuce_corner':'serve_deuce_middle'].sum()\n",
    "weights_deuce_serve = proportions['serve_deuce_corner':'serve_deuce_middle']/total_deuce_serve\n",
    "total_ad_serve = proportions['serve_ad_corner':'serve_ad_middle'].sum()\n",
    "weights_ad_serve = proportions['serve_ad_corner':'serve_ad_middle']/total_ad_serve\n",
    "\n",
    "del df"
   ],
   "metadata": {
    "collapsed": false,
    "pycharm": {
     "name": "#%% Get the weights of each action\n",
     "is_executing": false
    }
   }
  },
  {
   "cell_type": "code",
   "execution_count": 4,
   "outputs": [],
   "source": [
    "region_labels = proportions.index.values\n",
    "df_region_dict = {}\n",
    "distribution_region_dict = {}\n",
    "\n",
    "eps = 5\n",
    "\n",
    "for region_label in region_labels:\n",
    "    # slice for particular region/action\n",
    "    df_region = df[df.region == region_label]\n",
    "    # check if theres more than 20,000, if so, sample just 20,000\n",
    "    if df_region.shape[0] > 20000:\n",
    "        df_region = df_region.sample(20000, random_state=0)\n",
    "    \n",
    "    # save the subset of shots\n",
    "    df_region_dict[region_label] = df_region\n",
    "    \n",
    "    # fit and save the gaussian distribution\n",
    "    X = df_region[['x02', 'y02']]\n",
    "    X = X.to_numpy()\n",
    "    \n",
    "    mean = np.mean(X, axis=0)\n",
    "    cov = np.cov(X, rowvar=0)\n",
    "    # Add epsilon error\n",
    "    cov *= eps\n",
    "    \n",
    "    distribution = multivariate_normal(mean=mean, cov=cov)\n",
    "    distribution_region_dict[region_label] = distribution\n",
    "\n",
    "# del df"
   ],
   "metadata": {
    "collapsed": false,
    "pycharm": {
     "name": "#%% Split data into each action and create df_list and create the distribution dictionary\n",
     "is_executing": false
    }
   }
  },
  {
   "cell_type": "code",
   "execution_count": 5,
   "outputs": [],
   "source": [
    "# x, y = np.mgrid[0:16:0.1, -7:7:0.1]\n",
    "# pos = np.dstack((x, y))\n",
    "# zShort = 0; zDeep = 0\n",
    "# \n",
    "# for label, distribution in distribution_region_dict.items():\n",
    "#     if 'serve' not in label:\n",
    "#         if ('Deep' in label) or (\"Base\" in label):\n",
    "#             zDeep += distribution.pdf(pos)\n",
    "#         elif 'Corner' not in label:\n",
    "#             zShort += distribution.pdf(pos)\n",
    "#     \n",
    "# fig = plt.figure()\n",
    "# plt.subplot(2,1,1)\n",
    "# plt.contourf(x, y, zShort,zorder=2)\n",
    "# pf.createCourt(plt.gca(), compressed=True, only_half=False, big_buckets=True)\n",
    "# plt.subplot(2, 1, 2)\n",
    "# plt.contourf(x, y, zDeep,zorder=2)\n",
    "# pf.createCourt(plt.gca(), compressed=True, only_half=False, big_buckets=True)\n",
    "# "
   ],
   "metadata": {
    "collapsed": false,
    "pycharm": {
     "name": "#%% Plot all of the fitted gaussian distributions\n",
     "is_executing": false
    }
   }
  },
  {
   "cell_type": "code",
   "execution_count": 6,
   "outputs": [],
   "source": [
    "# cmaps = [\"Blues\", \"Reds\", \"Oranges\", \"Greens\", \"Purples\", \"Greys\", \"Blues\", \"Reds\", \"Oranges\", \"Greens\", \"Purples\", \"Greys\"]\n",
    "# \n",
    "# plt.figure()\n",
    "# i = 0\n",
    "# for label, df_region in df_region_dict.items():    \n",
    "#     if 'serve' not in label:\n",
    "#         if ('Deep' in label) or (\"Base\" in label):\n",
    "#             X = df_region[['x02', 'y02']]\n",
    "#             X = X.to_numpy()\n",
    "#             # pf.createKde(X[:,0],X[:,1],compressed=True, only_half=False,big_buckets=True, n_levels=15, cmap=cmaps[i])\n",
    "#             # i = i+1\n",
    "#         elif 'Corner' not in label:\n",
    "#             if \"OBDrop\" not in label:\n",
    "#                 X = df_region[['x02', 'y02']]\n",
    "#                 X = X.to_numpy()\n",
    "#                 pf.createKde(X[:,0],X[:,1],compressed=True, only_half=False,big_buckets=True, n_levels=15, cmap=cmaps[i])\n",
    "#                 i = i+1"
   ],
   "metadata": {
    "collapsed": false,
    "pycharm": {
     "name": "#%% Plot KDEs of either Deep or Short Shots\n",
     "is_executing": false
    }
   }
  },
  {
   "cell_type": "code",
   "execution_count": 7,
   "outputs": [],
   "source": [
    "df = dm.actionProbabilityVector(df,distribution_region_dict, region_labels, weights_rally, weights_deuce_serve, weights_ad_serve)\n",
    "\n",
    "# probableAction = []\n",
    "# for index, shot in df.iterrows(): # loop through the rows for the particular state\n",
    "#     probableAction.append(np.random.choice(region_labels, p = shot['df_serve_deuce_middle':]))\n",
    "# \n",
    "# df['probableAction'] = probableAction\n",
    "\n",
    "# df.to_pickle('df_probable_actions_cov_eps.plk')"
   ],
   "metadata": {
    "collapsed": false,
    "pycharm": {
     "name": "#%% Add the probability vector and pick one action\n",
     "is_executing": false
    }
   }
  },
  {
   "cell_type": "code",
   "execution_count": 8,
   "outputs": [],
   "source": [
    "# df  = pd.read_pickle(Path.cwd() / 'pickle' /  'df_probable_actions.plk')"
   ],
   "metadata": {
    "collapsed": false,
    "pycharm": {
     "name": "#%% Read the probable actions df\n",
     "is_executing": false
    }
   }
  },
  {
   "cell_type": "code",
   "execution_count": 9,
   "outputs": [],
   "source": [
    "# df_compare = df.groupby([\"region\", \"probableAction\"]).size().reset_index(name=\"Time\")\n",
    "# df_compare = df_compare[df_compare.region != df_compare.probableAction]\n",
    "# percent_diff = df_compare['Time'].sum()/871869*100\n",
    "# winsound.Beep(2000,800)\n",
    "# percent_diff"
   ],
   "metadata": {
    "collapsed": false,
    "pycharm": {
     "name": "#%% compare the labels to the hard coded labels\n",
     "is_executing": false
    }
   }
  },
  {
   "cell_type": "code",
   "execution_count": 10,
   "outputs": [],
   "source": [
    "shot = 245642\n",
    "# shot = 255937\n",
    "# shot = 272631\n",
    "\n",
    "x, y = np.mgrid[0:16:0.1, -7:7:0.1]\n",
    "pos = np.dstack((x, y))\n",
    "zDeep = 0\n",
    "\n",
    "for label, distribution in distribution_region_dict.items():\n",
    "    if 'serve' not in label:\n",
    "        if ('Deep' in label) or (\"Base\" in label):\n",
    "            zDeep += distribution.pdf(pos)\n",
    "    \n",
    "fig = plt.figure()\n",
    "plt.subplot(111)\n",
    "plt.contourf(x, y, zDeep,zorder=2)\n",
    "pf.createCourt(plt.gca(), compressed=True, only_half=False, big_buckets=True)\n",
    "\n",
    "df_sample = df.iloc[shot:shot+1,:]\n",
    "pf.plot1D(df_sample,compressed=True, only_half=False,big_buckets=True,)\n",
    "\n",
    "del df"
   ],
   "metadata": {
    "collapsed": false,
    "pycharm": {
     "name": "#%% Pick just one shots and plot and find probs\n",
     "is_executing": false
    }
   }
  },
  {
   "cell_type": "code",
   "execution_count": 4,
   "outputs": [],
   "source": [
    "df = df[df.Type == 'rally']\n",
    "df = df.sample(100000)\n",
    "plt.figure()\n",
    "pf.plot1D(df,compressed=True, only_half=False,big_buckets=True,)\n",
    "del df"
   ],
   "metadata": {
    "collapsed": false,
    "pycharm": {
     "name": "#%%\n",
     "is_executing": false
    }
   }
  },
  {
   "cell_type": "code",
   "execution_count": null,
   "outputs": [],
   "source": [
    "\n"
   ],
   "metadata": {
    "collapsed": false,
    "pycharm": {
     "name": "#%%\n"
    }
   }
  }
 ],
 "metadata": {
  "kernelspec": {
   "display_name": "Python 3",
   "language": "python",
   "name": "python3"
  },
  "language_info": {
   "codemirror_mode": {
    "name": "ipython",
    "version": 2
   },
   "file_extension": ".py",
   "mimetype": "text/x-python",
   "name": "python",
   "nbconvert_exporter": "python",
   "pygments_lexer": "ipython2",
   "version": "2.7.6"
  },
  "pycharm": {
   "stem_cell": {
    "cell_type": "raw",
    "source": [],
    "metadata": {
     "collapsed": false
    }
   }
  }
 },
 "nbformat": 4,
 "nbformat_minor": 0
}
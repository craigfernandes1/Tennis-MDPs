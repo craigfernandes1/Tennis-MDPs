{
 "cells": [
  {
   "cell_type": "code",
   "execution_count": 1,
   "metadata": {
    "collapsed": true,
    "pycharm": {
     "name": "#%% Import packages\n",
     "is_executing": false
    }
   },
   "outputs": [],
   "source": [
    "import PlottingFunction as pf\n",
    "import DataManipulation as dm\n",
    "import matplotlib.pyplot as plt\n",
    "from pathlib import Path\n",
    "import pandas as pd\n",
    "import numpy as np\n",
    "import winsound\n",
    "from sklearn.mixture import GaussianMixture\n",
    "\n",
    "%matplotlib qt5"
   ]
  },
  {
   "cell_type": "code",
   "execution_count": 3,
   "outputs": [],
   "source": [
    "df = pd.read_csv(Path.cwd() / 'data' / 'vast' / \"vast_rally_600k.csv\")\n",
    "df = dm.keep_data_in_frame(df, compressed=True, only_half=True)\n",
    "df = dm.change_vast_error_shots(df,'rally')\n",
    "\n",
    "# Look at just \"winning\" shots\n",
    "vast_min = 0.5\n",
    "df = df[(df.vast >= vast_min) | (df.vast == 0)]\n",
    "\n",
    "# Import player regions\n",
    "receiver_position = 'receiver_start'\n",
    "receiver_position_title = \"Start\"\n",
    "impact_regions, receiver_regions = pf.createPlayerRegions(type = 'rally')"
   ],
   "metadata": {
    "collapsed": false,
    "pycharm": {
     "name": "#%% Import data and clean\n",
     "is_executing": false
    }
   }
  },
  {
   "cell_type": "code",
   "execution_count": 4,
   "outputs": [
    {
     "name": "stdout",
     "text": [
      "Converged: True\n",
      "Converged: True\n",
      "Converged: True\n",
      "Converged: True\n",
      "Converged: True\n",
      "Converged: True\n",
      "Converged: True\n",
      "Converged: True\n",
      "Converged: True\n"
     ],
     "output_type": "stream"
    }
   ],
   "source": [
    "for impact_region in impact_regions:\n",
    "    for receiver_region in receiver_regions:\n",
    "               \n",
    "        df_filter = df\n",
    "        df_filter = dm.filter_data_by_buckets(df_filter, 'impact', impact_regions[impact_region],compressed=True,only_half=False)\n",
    "        df_filter = dm.filter_data_by_buckets(df_filter, receiver_position, receiver_regions[receiver_region],compressed=True,only_half=False)\n",
    "        \n",
    "        plt.figure()\n",
    "        plt.subplot(1, 3, 1)\n",
    "        heatmap = pf.createHeatmap(df_filter.x02, df_filter.y02, df_filter.vast, only_half=True, compressed = True, stat_name = \"VAST\",\n",
    "                                   minimum=5,alpha=0.95, vast_min=vast_min,  annot = True, addCount=True)\n",
    "        pf.plot1D(data=df_filter,alpha_ball = 0, alpha_player= 0.1, only_half=True, compressed=True, receiver_position=receiver_position,\n",
    "                  title = \"Rally VAST: Impact Region (\" + impact_region + \") | Receiver \" + receiver_position_title + \" Region (\" + receiver_region +\")\")\n",
    "        pf.markupImpactPlayer(impact_region)\n",
    "        \n",
    "        plt.subplot(1, 3, 2)\n",
    "        pf.createKde(df_filter.x02, df_filter.y02,n_levels=15,alpha=1, only_half=True, compressed = True)\n",
    "        pf.plot1D(data=df_filter, receiver_position=receiver_position, only_half=True, compressed = True, \n",
    "                  title=\"Rally Shots: Impact Region (\" + impact_region + \") | Receiver \" + receiver_position_title + \" Region (\" + receiver_region +\")\")\n",
    "        pf.markupImpactPlayer(impact_region)\n",
    "        \n",
    "        plt.subplot(1, 3, 3)\n",
    "        if (impact_region == 'Deuce' and receiver_region == \"Ad\") or (impact_region == 'Ad' and receiver_region == \"Deuce\"):\n",
    "            n_clusters = 2\n",
    "        else:\n",
    "            n_clusters = 3\n",
    "        means, covariances, prediction = pf.fitGMM(df_filter,n_clusters,compressed=True,only_half=True,\n",
    "                                                   title = \"Rally Shots: Impact Region (\" + impact_region + \") | Receiver \" + receiver_position_title + \" Region (\" + receiver_region +\") | GMM\")\n",
    "        pf.markupImpactPlayer(impact_region)\n",
    "        \n",
    "        plt.subplots_adjust(top=0.7,bottom=0.2,left=0.04,right=0.97,hspace=0.15,wspace=0.17)\n",
    "        \n",
    "        \n",
    "        # Formatting predictions df\n",
    "        prediction = pd.DataFrame(prediction)\n",
    "        prediction = prediction.set_index(df_filter.index)\n",
    "        prediction = prediction.rename(columns={0:'Dist0', 1: 'Dist1', 2: 'Dist2'})\n",
    "        # Concatenate dfs\n",
    "        df_filter_gmm = pd.concat([df_filter,prediction], axis=1)\n",
    "        # Filter data into rows from each distribution\n",
    "        df_filter_dist0 = df_filter_gmm[df_filter_gmm.Dist0 > 0.33]\n",
    "        df_filter_dist1 = df_filter_gmm[df_filter_gmm.Dist1 > 0.33]\n",
    "        if n_clusters == 2:\n",
    "            df_filter_gmm = {\"Dist0\": df_filter_dist0, \"Dist1\": df_filter_dist1}\n",
    "        elif n_clusters == 3:\n",
    "            df_filter_dist2 = df_filter_gmm[df_filter_gmm.Dist2 > 0.33]\n",
    "            df_filter_gmm = {\"Dist0\": df_filter_dist0, \"Dist1\": df_filter_dist1,\"Dist2\": df_filter_dist2}\n",
    "    \n",
    "        plt.figure()\n",
    "        df_region = df\n",
    "        df_region = dm.filter_data_by_buckets(df_region, 'impact', impact_regions[impact_region],compressed=True,only_half=False)\n",
    "        df_region = dm.filter_data_by_buckets(df_region, receiver_position, receiver_regions[receiver_region],compressed=True,only_half=False)\n",
    "        i = 0\n",
    "        j = 0\n",
    "        n_shots = 150\n",
    "        \n",
    "        for df_filter_gmm_label in df_filter_gmm:    \n",
    "            \n",
    "            df_filter_gmm_specific = df_filter_gmm[df_filter_gmm_label]\n",
    "            \n",
    "            plt.subplot(3, 3, 1+i)\n",
    "            pf.createKde(df_filter_gmm_specific.x02, df_filter_gmm_specific.y02,n_levels=15,alpha=1, only_half=True, compressed = True)\n",
    "            pf.plot1D(data=df_filter_gmm_specific, receiver_position=receiver_position, only_half=True, compressed = True, \n",
    "                      title=\"Shots from \" + df_filter_gmm_label)\n",
    "            pf.markupImpactPlayer(impact_region)\n",
    "            plt.scatter(means[i,0],means[i,1],c='orange',zorder=10,s=20)\n",
    "            #---\n",
    "            plt.subplot(3, 3, 4+i)\n",
    "            heatmap = pf.createHeatmap(df_filter_gmm_specific.x02, df_filter_gmm_specific.y02, df_filter_gmm_specific.vast, only_half=True, compressed = True, stat_name = \"VAST\",\n",
    "                                       minimum=5,alpha=0.95, vast_min=vast_min,  annot = True, addCount=True)\n",
    "            pf.plot1D(data=df_filter_gmm_specific,alpha_ball = 0, alpha_player= 0.1, only_half=True, compressed=True, receiver_position=receiver_position,)\n",
    "            pf.markupImpactPlayer(impact_region)\n",
    "            plt.scatter(means[i,0],means[i,1],c='orange',zorder=10,s=20)\n",
    "            bucket_centre = dm.get_peak_vast_heatmap(heatmap)\n",
    "            plt.scatter(bucket_centre[0],bucket_centre[1],c='blue',zorder=10,s=20)\n",
    "            #---\n",
    "            plt.subplot(3, 3, 7+i)\n",
    "            x,y  = np.random.multivariate_normal(means[j], covariances[j], n_shots).T\n",
    "            vast_intention = pf.plot_GMM_dist_data(x,y,df_filter,n_shots,'orange') \n",
    "            x,y  = np.random.multivariate_normal(bucket_centre, covariances[j], n_shots).T\n",
    "            vast_rational = pf.plot_GMM_dist_data(x,y,df_filter,n_shots,'blue') \n",
    "            \n",
    "            ax = plt.gca()\n",
    "            ax.set_xlabel('vast_intention: {:0.2f} | vast_rational: {:0.2f}'.format(vast_intention,vast_rational))\n",
    "            \n",
    "            i=i+1\n",
    "            j=j+1\n",
    "        \n",
    "winsound.Beep(2000, 800)"
   ],
   "metadata": {
    "collapsed": false,
    "pycharm": {
     "name": "#%% \n",
     "is_executing": false
    }
   }
  },
  {
   "cell_type": "code",
   "execution_count": 6,
   "outputs": [
    {
     "data": {
      "text/plain": "Text(0.5, 1.0, 'Cross Court Rally Winning Shots: AIC & BIC Analysis')"
     },
     "metadata": {},
     "output_type": "execute_result",
     "execution_count": 6
    }
   ],
   "source": [
    "impact_region = 'Deuce'\n",
    "receiver_region = 'Deuce'\n",
    "\n",
    "df_filter = df\n",
    "df_filter = dm.filter_data_by_buckets(df_filter, 'impact', impact_regions[impact_region],compressed=True,only_half=False)\n",
    "df_filter = dm.filter_data_by_buckets(df_filter, receiver_position, receiver_regions[receiver_region],compressed=True,only_half=False)\n",
    "\n",
    "X = df_filter[['x02', 'y02']]\n",
    "X = X.to_numpy()\n",
    "\n",
    "n_components = np.arange(1, 41)\n",
    "models = [GaussianMixture(n, covariance_type='full').fit(X)\n",
    "          for n in n_components]\n",
    "\n",
    "plt.figure()\n",
    "plt.plot(n_components, [m.bic(X) for m in models], label='BIC')\n",
    "plt.plot(n_components, [m.aic(X) for m in models], label='AIC')\n",
    "plt.legend(loc='best')\n",
    "plt.xlabel('n_components');\n",
    "plt.title(\"Cross Court Rally Winning Shots: AIC & BIC Analysis\")"
   ],
   "metadata": {
    "collapsed": false,
    "pycharm": {
     "name": "#%% Deuce Rallies - AIC/BIC Analysis\n",
     "is_executing": false
    }
   }
  },
  {
   "cell_type": "code",
   "execution_count": 10,
   "outputs": [
    {
     "name": "stdout",
     "text": [
      "Converged: True\n"
     ],
     "output_type": "stream"
    }
   ],
   "source": [
    "n_clusters = 6\n",
    "plt.figure()\n",
    "means, covariances, prediction = pf.fitGMM(df_filter,n_clusters,compressed=True,only_half=True,\n",
    "                                           title = \"Rally Shots: Impact Region (\" + impact_region + \") | Receiver \" + receiver_position_title + \" Region (\" + receiver_region +\") | GMM\")\n",
    "pf.markupImpactPlayer(impact_region)"
   ],
   "metadata": {
    "collapsed": false,
    "pycharm": {
     "name": "#%% Try with 6 components\n",
     "is_executing": false
    }
   }
  },
  {
   "cell_type": "code",
   "execution_count": 11,
   "outputs": [],
   "source": [
    "# Formatting predictions df\n",
    "prediction = pd.DataFrame(prediction)\n",
    "prediction = prediction.set_index(df_filter.index)\n",
    "prediction = prediction.rename(columns={0:'Dist0', 1: 'Dist1', 2: 'Dist2',3:'Dist3', 4: 'Dist4', 5: 'Dist5'})\n",
    "# Concatenate dfs\n",
    "df_filter_gmm = pd.concat([df_filter,prediction], axis=1)\n",
    "# Filter data into rows from each distribution\n",
    "df_filter_dist0 = df_filter_gmm[df_filter_gmm.Dist0 > 0.33]\n",
    "df_filter_dist1 = df_filter_gmm[df_filter_gmm.Dist1 > 0.33]\n",
    "df_filter_dist2 = df_filter_gmm[df_filter_gmm.Dist2 > 0.33]\n",
    "df_filter_dist3 = df_filter_gmm[df_filter_gmm.Dist3 > 0.33]\n",
    "df_filter_dist4 = df_filter_gmm[df_filter_gmm.Dist4 > 0.33]\n",
    "df_filter_dist5 = df_filter_gmm[df_filter_gmm.Dist5 > 0.33]\n",
    "\n",
    "\n",
    "df_filter_gmm = {\"Dist0\": df_filter_dist0, \"Dist1\": df_filter_dist1,\"Dist2\": df_filter_dist2,\n",
    "                 \"Dist3\": df_filter_dist3, \"Dist4\": df_filter_dist4,\"Dist5\": df_filter_dist5,}\n",
    "\n",
    "df_region = df\n",
    "df_region = dm.filter_data_by_buckets(df_region, 'impact', impact_regions[impact_region])\n",
    "df_region = dm.filter_data_by_buckets(df_region, receiver_position, receiver_regions[receiver_region])\n",
    "\n",
    "n_shots = 150\n"
   ],
   "metadata": {
    "collapsed": false,
    "pycharm": {
     "name": "#%%\n",
     "is_executing": false
    }
   }
  },
  {
   "cell_type": "code",
   "execution_count": 12,
   "outputs": [],
   "source": [
    "plt.figure()\n",
    "i = 1\n",
    "j = 0\n",
    "for df_filter_gmm_label in df_filter_gmm:    \n",
    "    \n",
    "    df_filter_gmm_specific = df_filter_gmm[df_filter_gmm_label]\n",
    "    \n",
    "    # plt.subplot(3, 7, 1+i)\n",
    "    # pf.createKde(df_filter_gmm_specific.x02, df_filter_gmm_specific.y02,n_levels=15,alpha=1, only_half=True, compressed = True)\n",
    "    # pf.plot1D(data=df_filter_gmm_specific, receiver_position=receiver_position, only_half=True, compressed = True, \n",
    "    #           title=\"Shots from \" + df_filter_gmm_label)\n",
    "    # pf.markupImpactPlayer(impact_region)\n",
    "    # plt.scatter(means[i,0],means[i,1],c='orange',zorder=10,s=20)\n",
    "    # #---\n",
    "    # plt.subplot(3, 7, 8+i)\n",
    "    plt.subplot(3, 4, i)\n",
    "    heatmap = pf.createHeatmap(df_filter_gmm_specific.x02, df_filter_gmm_specific.y02, df_filter_gmm_specific.vast, only_half=True, compressed = True, stat_name = \"VAST\",\n",
    "                               minimum=5,alpha=0.95, vast_min=vast_min,  annot = True, addCount=True, title=df_filter_gmm_label)\n",
    "    # pf.plot1D(data=df_filter_gmm_specific,alpha_ball = 0, alpha_player= 0.1, only_half=True, compressed=True, receiver_position=receiver_position,)\n",
    "    # pf.markupImpactPlayer(impact_region)\n",
    "    plt.scatter(means[j,0],means[j,1],c='orange',zorder=10,s=20)\n",
    "    bucket_centre = dm.get_peak_vast_heatmap(heatmap)\n",
    "    plt.scatter(bucket_centre[0],bucket_centre[1],c='blue',zorder=10,s=20)\n",
    "    #---\n",
    "    # plt.subplot(3, 7, 15+i)\n",
    "    plt.subplot(3, 4, i+1)\n",
    "    x,y  = np.random.multivariate_normal(means[j], covariances[j], n_shots).T\n",
    "    vast_intention = pf.plot_GMM_dist_data(x,y,df_filter,n_shots,'orange', title=df_filter_gmm_label) \n",
    "    x,y  = np.random.multivariate_normal(bucket_centre, covariances[j], n_shots).T\n",
    "    vast_rational = pf.plot_GMM_dist_data(x,y,df_filter,n_shots,'blue',title=df_filter_gmm_label) \n",
    "    \n",
    "    ax = plt.gca()\n",
    "    ax.set_xlabel('vast_intention: {:0.2f} | vast_rational: {:0.2f}'.format(vast_intention,vast_rational))\n",
    "    \n",
    "    i=i+2\n",
    "    j=j+1\n",
    "\n",
    "plt.subplots_adjust(top=0.945,bottom=0.07,left=0.04,right=0.98,hspace=0.41,wspace=0.2)\n"
   ],
   "metadata": {
    "collapsed": false,
    "pycharm": {
     "name": "#%%\n",
     "is_executing": false
    }
   }
  },
  {
   "cell_type": "code",
   "execution_count": null,
   "outputs": [],
   "source": [
    "\n"
   ],
   "metadata": {
    "collapsed": false,
    "pycharm": {
     "name": "#%%\n"
    }
   }
  }
 ],
 "metadata": {
  "kernelspec": {
   "display_name": "Python 3",
   "language": "python",
   "name": "python3"
  },
  "language_info": {
   "codemirror_mode": {
    "name": "ipython",
    "version": 2
   },
   "file_extension": ".py",
   "mimetype": "text/x-python",
   "name": "python",
   "nbconvert_exporter": "python",
   "pygments_lexer": "ipython2",
   "version": "2.7.6"
  },
  "pycharm": {
   "stem_cell": {
    "cell_type": "raw",
    "source": [],
    "metadata": {
     "collapsed": false
    }
   }
  }
 },
 "nbformat": 4,
 "nbformat_minor": 0
}